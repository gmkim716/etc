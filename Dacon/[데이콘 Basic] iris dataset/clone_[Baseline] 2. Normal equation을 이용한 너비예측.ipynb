{
 "cells": [
  {
   "cell_type": "markdown",
   "id": "fbdf794d-12fb-42d3-8467-830835782b88",
   "metadata": {},
   "source": [
    "# [Baseline] 2. Normal equation을 이용한 너비예측\n",
    "제목에서도 보다시피 방정식을 풀어보도록 하겠습니다. "
   ]
  },
  {
   "cell_type": "markdown",
   "id": "792057fc-e515-4380-b5f8-72ffc4772bb3",
   "metadata": {},
   "source": [
    "## 패키지 설치\n",
    "pandas는 csv를 불러오고 데이터 프레임을 조작하기 위해 사용됩니다.<br/>\n",
    "numpy는 데이터 프레임을 행렬로 변환하고 행렬곱, 전치행렬 만들기, 역행렬 계산 등을 하기 위해 불러옵니다.<br/>\n",
    "sklearn은 python의 대표적인 머신러닝 패키지 입니다. 다양한 머신러닝 알고리즘이 이미 구현되어 있어 우리의 수고를 덜어줄 것입니다."
   ]
  },
  {
   "cell_type": "markdown",
   "id": "9dd277e9-ddbc-4276-855b-fd54f5e335cd",
   "metadata": {},
   "source": [
    "## 데이터 불러오기"
   ]
  },
  {
   "cell_type": "code",
   "execution_count": 1,
   "id": "21585009-0481-458b-96e9-f21a5f9eaab1",
   "metadata": {},
   "outputs": [
    {
     "data": {
      "text/html": [
       "<div>\n",
       "<style scoped>\n",
       "    .dataframe tbody tr th:only-of-type {\n",
       "        vertical-align: middle;\n",
       "    }\n",
       "\n",
       "    .dataframe tbody tr th {\n",
       "        vertical-align: top;\n",
       "    }\n",
       "\n",
       "    .dataframe thead th {\n",
       "        text-align: right;\n",
       "    }\n",
       "</style>\n",
       "<table border=\"1\" class=\"dataframe\">\n",
       "  <thead>\n",
       "    <tr style=\"text-align: right;\">\n",
       "      <th></th>\n",
       "      <th>id</th>\n",
       "      <th>species</th>\n",
       "      <th>sepal length (cm)</th>\n",
       "      <th>petal length (cm)</th>\n",
       "      <th>sepal width (cm)</th>\n",
       "      <th>petal width (cm)</th>\n",
       "    </tr>\n",
       "  </thead>\n",
       "  <tbody>\n",
       "    <tr>\n",
       "      <th>0</th>\n",
       "      <td>0</td>\n",
       "      <td>setosa</td>\n",
       "      <td>4.4</td>\n",
       "      <td>1.4</td>\n",
       "      <td>2.9</td>\n",
       "      <td>0.2</td>\n",
       "    </tr>\n",
       "    <tr>\n",
       "      <th>1</th>\n",
       "      <td>1</td>\n",
       "      <td>versicolor</td>\n",
       "      <td>6.4</td>\n",
       "      <td>4.5</td>\n",
       "      <td>3.2</td>\n",
       "      <td>1.5</td>\n",
       "    </tr>\n",
       "    <tr>\n",
       "      <th>2</th>\n",
       "      <td>2</td>\n",
       "      <td>virginica</td>\n",
       "      <td>6.2</td>\n",
       "      <td>4.8</td>\n",
       "      <td>2.8</td>\n",
       "      <td>1.8</td>\n",
       "    </tr>\n",
       "    <tr>\n",
       "      <th>3</th>\n",
       "      <td>3</td>\n",
       "      <td>virginica</td>\n",
       "      <td>7.2</td>\n",
       "      <td>6.1</td>\n",
       "      <td>3.6</td>\n",
       "      <td>2.5</td>\n",
       "    </tr>\n",
       "    <tr>\n",
       "      <th>4</th>\n",
       "      <td>4</td>\n",
       "      <td>setosa</td>\n",
       "      <td>4.9</td>\n",
       "      <td>1.4</td>\n",
       "      <td>3.0</td>\n",
       "      <td>0.2</td>\n",
       "    </tr>\n",
       "  </tbody>\n",
       "</table>\n",
       "</div>"
      ],
      "text/plain": [
       "   id     species  sepal length (cm)  petal length (cm)  sepal width (cm)  \\\n",
       "0   0      setosa                4.4                1.4               2.9   \n",
       "1   1  versicolor                6.4                4.5               3.2   \n",
       "2   2   virginica                6.2                4.8               2.8   \n",
       "3   3   virginica                7.2                6.1               3.6   \n",
       "4   4      setosa                4.9                1.4               3.0   \n",
       "\n",
       "   petal width (cm)  \n",
       "0               0.2  \n",
       "1               1.5  \n",
       "2               1.8  \n",
       "3               2.5  \n",
       "4               0.2  "
      ]
     },
     "execution_count": 1,
     "metadata": {},
     "output_type": "execute_result"
    }
   ],
   "source": [
    "import pandas as pd\n",
    "import numpy as np\n",
    "from sklearn.linear_model import LinearRegression\n",
    "\n",
    "iris = pd.read_csv('iris_train.csv')\n",
    "iris.head()"
   ]
  },
  {
   "cell_type": "markdown",
   "id": "3cf5b26d-35f2-4f7a-be91-9df233d4ece3",
   "metadata": {},
   "source": [
    "우리가 사용해야 할 데이터는 붓꽃의 종류(species), 꽃잎의 길이(petal length (cm)), 꽃받침의 길이(sepal length (cm))입니다.<br/>\n",
    "꽃잎과 꽃받침의 너비를 알아내야 하니 X로 정의하겠습니다."
   ]
  },
  {
   "cell_type": "code",
   "execution_count": 2,
   "id": "f3ec6c1d-bdb6-42f7-b38b-c34fe2875e4e",
   "metadata": {},
   "outputs": [
    {
     "data": {
      "text/html": [
       "<div>\n",
       "<style scoped>\n",
       "    .dataframe tbody tr th:only-of-type {\n",
       "        vertical-align: middle;\n",
       "    }\n",
       "\n",
       "    .dataframe tbody tr th {\n",
       "        vertical-align: top;\n",
       "    }\n",
       "\n",
       "    .dataframe thead th {\n",
       "        text-align: right;\n",
       "    }\n",
       "</style>\n",
       "<table border=\"1\" class=\"dataframe\">\n",
       "  <thead>\n",
       "    <tr style=\"text-align: right;\">\n",
       "      <th></th>\n",
       "      <th>species</th>\n",
       "      <th>sepal length (cm)</th>\n",
       "      <th>petal length (cm)</th>\n",
       "    </tr>\n",
       "  </thead>\n",
       "  <tbody>\n",
       "    <tr>\n",
       "      <th>0</th>\n",
       "      <td>setosa</td>\n",
       "      <td>4.4</td>\n",
       "      <td>1.4</td>\n",
       "    </tr>\n",
       "    <tr>\n",
       "      <th>1</th>\n",
       "      <td>versicolor</td>\n",
       "      <td>6.4</td>\n",
       "      <td>4.5</td>\n",
       "    </tr>\n",
       "    <tr>\n",
       "      <th>2</th>\n",
       "      <td>virginica</td>\n",
       "      <td>6.2</td>\n",
       "      <td>4.8</td>\n",
       "    </tr>\n",
       "    <tr>\n",
       "      <th>3</th>\n",
       "      <td>virginica</td>\n",
       "      <td>7.2</td>\n",
       "      <td>6.1</td>\n",
       "    </tr>\n",
       "    <tr>\n",
       "      <th>4</th>\n",
       "      <td>setosa</td>\n",
       "      <td>4.9</td>\n",
       "      <td>1.4</td>\n",
       "    </tr>\n",
       "  </tbody>\n",
       "</table>\n",
       "</div>"
      ],
      "text/plain": [
       "      species  sepal length (cm)  petal length (cm)\n",
       "0      setosa                4.4                1.4\n",
       "1  versicolor                6.4                4.5\n",
       "2   virginica                6.2                4.8\n",
       "3   virginica                7.2                6.1\n",
       "4      setosa                4.9                1.4"
      ]
     },
     "execution_count": 2,
     "metadata": {},
     "output_type": "execute_result"
    }
   ],
   "source": [
    "X = iris[['species','sepal length (cm)','petal length (cm)']]\n",
    "X.head()"
   ]
  },
  {
   "cell_type": "markdown",
   "id": "3264a52d-ece7-4987-832a-9e08d7eed133",
   "metadata": {},
   "source": [
    "정답인 y값도 정의해야겠죠?<br/>\n",
    "y가 꽃잎과 꽃받침의 너비 2개이므로 각각 y_petal, y_sepal로 정의하겠습니다."
   ]
  },
  {
   "cell_type": "code",
   "execution_count": 3,
   "id": "beea5136-7f90-43f2-a127-8ef0f6c3bee8",
   "metadata": {},
   "outputs": [],
   "source": [
    "y_petal = iris['petal width (cm)']\n",
    "y_sepal = iris['sepal width (cm)']"
   ]
  },
  {
   "cell_type": "markdown",
   "id": "959b52ef-023c-487a-9e25-a7befb69968c",
   "metadata": {},
   "source": [
    "X와 y를 모두 정의했습니다!<br/>\n",
    "그런데 X의 species 컬럼을 보면 종류가 숫자가 아닌 문자로 나와있습니다.<br/>\n",
    "컴퓨터는 사람이 사용하는 문자를 알아들을 수 없기 때문에 숫자로 변환해주는 과정이 필요합니다.<br/>\n",
    "변환 방법에는 여러가지가 있지만, setosa를 1번, virginica는 2번, versicolor를 3번으로 정의해보도록 하겠습니다."
   ]
  },
  {
   "cell_type": "code",
   "execution_count": 4,
   "id": "054da5b6-13cc-4ed1-9122-b7b6a601d266",
   "metadata": {},
   "outputs": [],
   "source": [
    "def encode_species2int(species):\n",
    "    if species == 'setosa':\n",
    "        return 1\n",
    "    if species == 'virginica':\n",
    "        return 2\n",
    "    if species == 'versicolor':\n",
    "        return 3"
   ]
  },
  {
   "cell_type": "markdown",
   "id": "d15bfa95-7c2f-4ce4-b366-0d27b85f1323",
   "metadata": {},
   "source": [
    "위의 함수는 인자로 붓꽃의 종(species)가 들어오면 숫자를 반환하는 함수 입니다.<br/>\n",
    "이를 판다스의 시리즈 안에 정의되어 있는 apply라는 메소들을 사용하여 변환하도록 하겠습니다."
   ]
  },
  {
   "cell_type": "code",
   "execution_count": 5,
   "id": "2d65fd7e-ffed-4b85-a371-d5a8521f6548",
   "metadata": {},
   "outputs": [
    {
     "name": "stdout",
     "output_type": "stream",
     "text": [
      "species의 데이터 타입: <class 'pandas.core.series.Series'>\n",
      "\n",
      "\n",
      "=================species 샘플=================\n",
      "0    1\n",
      "1    3\n",
      "2    2\n",
      "3    2\n",
      "4    1\n",
      "Name: species, dtype: int64\n"
     ]
    }
   ],
   "source": [
    "species = iris['species'] # 데이터 프레임 내부의 species를 선택(시리즈)\n",
    "print('species의 데이터 타입:', type(species)) # 데이터 프레임의 컬럼 한 열은 시리즈로 선언되어 있는 것을 확인하실 수 있습니다.\n",
    "print('\\n')\n",
    "encoded_species = species.apply(encode_species2int)\n",
    "print('=================species 샘플=================')\n",
    "print(encoded_species[:5])"
   ]
  },
  {
   "cell_type": "markdown",
   "id": "2283fa45-ed0c-4090-91e3-2d3a34f195c8",
   "metadata": {},
   "source": [
    "apply 메소드는 인자로 받은 함수에 시리즈 원소 하나하나를 넣습니다.<br/>\n",
    "따라서 encode_species2int 함수에 각각 'setosa', 'virginica', 'versicolor'가 들어가게 되고 이를 1, 2, 3으로 반환하게 되는 것이죠<br/>\n",
    "이제 정수로 변환한 species를 X의 species 열에 넣겠습니다"
   ]
  },
  {
   "cell_type": "code",
   "execution_count": 6,
   "id": "3de4d8a5-fe8a-4255-bcfb-5b6a1b288bbe",
   "metadata": {},
   "outputs": [
    {
     "name": "stderr",
     "output_type": "stream",
     "text": [
      "<ipython-input-6-dff9bf1c1a2d>:1: SettingWithCopyWarning: \n",
      "A value is trying to be set on a copy of a slice from a DataFrame.\n",
      "Try using .loc[row_indexer,col_indexer] = value instead\n",
      "\n",
      "See the caveats in the documentation: https://pandas.pydata.org/pandas-docs/stable/user_guide/indexing.html#returning-a-view-versus-a-copy\n",
      "  X['species'] = encoded_species\n"
     ]
    },
    {
     "data": {
      "text/html": [
       "<div>\n",
       "<style scoped>\n",
       "    .dataframe tbody tr th:only-of-type {\n",
       "        vertical-align: middle;\n",
       "    }\n",
       "\n",
       "    .dataframe tbody tr th {\n",
       "        vertical-align: top;\n",
       "    }\n",
       "\n",
       "    .dataframe thead th {\n",
       "        text-align: right;\n",
       "    }\n",
       "</style>\n",
       "<table border=\"1\" class=\"dataframe\">\n",
       "  <thead>\n",
       "    <tr style=\"text-align: right;\">\n",
       "      <th></th>\n",
       "      <th>species</th>\n",
       "      <th>sepal length (cm)</th>\n",
       "      <th>petal length (cm)</th>\n",
       "    </tr>\n",
       "  </thead>\n",
       "  <tbody>\n",
       "    <tr>\n",
       "      <th>0</th>\n",
       "      <td>1</td>\n",
       "      <td>4.4</td>\n",
       "      <td>1.4</td>\n",
       "    </tr>\n",
       "    <tr>\n",
       "      <th>1</th>\n",
       "      <td>3</td>\n",
       "      <td>6.4</td>\n",
       "      <td>4.5</td>\n",
       "    </tr>\n",
       "    <tr>\n",
       "      <th>2</th>\n",
       "      <td>2</td>\n",
       "      <td>6.2</td>\n",
       "      <td>4.8</td>\n",
       "    </tr>\n",
       "    <tr>\n",
       "      <th>3</th>\n",
       "      <td>2</td>\n",
       "      <td>7.2</td>\n",
       "      <td>6.1</td>\n",
       "    </tr>\n",
       "    <tr>\n",
       "      <th>4</th>\n",
       "      <td>1</td>\n",
       "      <td>4.9</td>\n",
       "      <td>1.4</td>\n",
       "    </tr>\n",
       "  </tbody>\n",
       "</table>\n",
       "</div>"
      ],
      "text/plain": [
       "   species  sepal length (cm)  petal length (cm)\n",
       "0        1                4.4                1.4\n",
       "1        3                6.4                4.5\n",
       "2        2                6.2                4.8\n",
       "3        2                7.2                6.1\n",
       "4        1                4.9                1.4"
      ]
     },
     "execution_count": 6,
     "metadata": {},
     "output_type": "execute_result"
    }
   ],
   "source": [
    "X['species'] = encoded_species\n",
    "X.head()"
   ]
  },
  {
   "cell_type": "code",
   "execution_count": 7,
   "id": "dd430ccb-a6c2-411d-a6a3-2bb906bbceab",
   "metadata": {},
   "outputs": [],
   "source": [
    "X = np.array(X) # 모든 입력 array로 변환"
   ]
  },
  {
   "cell_type": "markdown",
   "id": "ebf42eff-1b06-4673-9d72-640243918210",
   "metadata": {},
   "source": [
    "이제 모든 준비가 끝났습니다.<br/>\n",
    "본격적으로 너비를 맞춰보도록 하겠습니다!<br/>\n",
    "지금 주어진 상황은 종류, 꽃받침과 꽃잎의 길이가 주어졌고 이를 통해 꽃받침과 꽃잎의 너비를 알아내야 합니다."
   ]
  },
  {
   "cell_type": "markdown",
   "id": "5b79acde-7adb-4288-bef1-17fa4e1fa110",
   "metadata": {},
   "source": [
    "## 예측식 정의\n",
    "y^ = w1x1 + w2x2 + w3x3 + w4로 표현할 수 있을겁니다.<br/>\n",
    "y^은 주어진 데이터(종류, 길이)로 예측한 값입니다. x1부터 x3까지는 각각 종류, 꽃받침과 꽃잎의 길이라고 생각하면 됩니다.<br/>\n",
    "따라서 우리는 x1 부터 x3까지 곱해지는 w1, w2, w3와 절편 w4를 알아내야 합니다."
   ]
  },
  {
   "cell_type": "markdown",
   "id": "060746e6-e4a5-49f3-8ccb-a918930ca7e5",
   "metadata": {},
   "source": [
    "## 목적식 정의\n",
    "수식으로 도출된 값을 y^이라 했다면 우리가 알고있는(주어진) 너비 값은 y라고 하겠습니다.<br/>\n",
    "따라서 우리는 우리가 수식으로 예측한 값과 실제 주어진 값의 차이를 최대한 줄이는 것이 목표입니다.<br/>\n",
    "이를 수식으로 표현하면 y^ - y = e ~ 0 입니다. e는 'error', 즉 예측한 값과 실제 주어진 값의 차이를 나타냅니다.<br/>\n",
    "이제 앞의 수식을 제곱하겠습니다.<br/>\n",
    "<center>1/2(y^-y)^2 = e ~ 0</center><br/>\n",
    "오차 수식을 제곱하는 이유는 목적식의 볼록한 정도를 유지하고 극값이 최소점인 것을 보장하기 위함입니다.<br/>\n",
    "극값이 최소점인것을 보장한다면 위의 식을 미분하여 0인 점이 최소점이라는 사실도 보장이 됩니다."
   ]
  },
  {
   "cell_type": "markdown",
   "id": "892f9dbb-bfac-4747-8797-e470ad25411d",
   "metadata": {},
   "source": [
    "## 미분하여 극값찾기\n",
    "### 구하고자 하는 값으로 미분\n",
    "우리가 구하고 싶은 것은 종류, 꼬칭ㅍ의 길이, 꽃받침의 길이와 곱해지는 w1, w2, w3와 절편 w4를 알아내는 것입니다.<br/>\n",
    "따라서 저 네가지 수로 미분하여 0이 되는 점이 오차가 가장 적은 극점이 될 것입니다.<br/>\n",
    "자 이제 미분을 해볼까요?\n",
    "<center>$$\\hat y = w1x1 + w2x2 + w3x3 + w4 $$ 이므로<br/>\n",
    "    $$1/2 * (w1x1 + w2x2 + w3x3 + w4 - y)^2 = e \\approx 0 $$ 으로 표현할 수 있습니다.<br/>\n",
    "~ 중략 ~</center>\n",
    "이를 코드로 구현해보도록 하겠습니다.<br/>\n",
    "먼저 절편항을 구하기 위해 1을 전부 추가하겠습니다"
   ]
  },
  {
   "cell_type": "code",
   "execution_count": 11,
   "id": "0202293a-95e0-48ce-aa86-97c9073e87a3",
   "metadata": {},
   "outputs": [
    {
     "data": {
      "text/plain": [
       "array([[1. , 4.4, 1.4, 1. ],\n",
       "       [3. , 6.4, 4.5, 1. ],\n",
       "       [2. , 6.2, 4.8, 1. ],\n",
       "       [2. , 7.2, 6.1, 1. ],\n",
       "       [1. , 4.9, 1.4, 1. ],\n",
       "       [2. , 6.5, 5.8, 1. ],\n",
       "       [1. , 4.3, 1.1, 1. ],\n",
       "       [3. , 6.7, 5. , 1. ],\n",
       "       [3. , 6.8, 4.8, 1. ],\n",
       "       [3. , 6.6, 4.4, 1. ]])"
      ]
     },
     "execution_count": 11,
     "metadata": {},
     "output_type": "execute_result"
    }
   ],
   "source": [
    "ones = np.ones_like(X[:,0]) # 1로만 되어있는 (75, ) 벡터 생성\n",
    "ones = ones.reshape(75, -1) # 2차원으로 변환 (75, 1)\n",
    "X = np.concatenate((X,ones), axis=1) \n",
    "# 기존 X와 concat 기존 X의 shape = (75, 3) → 변환 뒤 X의 shape (75, 4)\n",
    "\n",
    "X[:10]"
   ]
  },
  {
   "cell_type": "markdown",
   "id": "069183c5-cc15-4019-b1c2-fec01eeee635",
   "metadata": {},
   "source": [
    "이제 w를 구하는 식처럼 계산해 보겠습니다. $$W = (X^T*X)^{-1}*X^T*y$$"
   ]
  },
  {
   "cell_type": "code",
   "execution_count": 14,
   "id": "01549728-7b41-473c-8d53-082c43dba984",
   "metadata": {},
   "outputs": [
    {
     "data": {
      "text/plain": [
       "array([-0.06746834, -0.21313084,  0.52330681,  0.59200385])"
      ]
     },
     "execution_count": 14,
     "metadata": {},
     "output_type": "execute_result"
    }
   ],
   "source": [
    "transpose_doted_X = X.T.dot(X) # X의 전치행렬 X.T와 X 행렬 곱\n",
    "inversed = np.linalg.inv(transpose_doted_X) # X.T dot X의 역행렬 계산\n",
    "doted_inv_t = inversed.dot(X.T) # 역행렬과 전치행렬 행렬 곱\n",
    "weight_petal = doted_inv_t.dot(y_petal) \n",
    "# 맞춰야하는 꽃잎 너비와 행렬 곱 → weight 계산\n",
    "weight_petal"
   ]
  },
  {
   "cell_type": "markdown",
   "id": "7cef3464-93aa-42d7-85d0-413e28595241",
   "metadata": {},
   "source": [
    "공식대로 흘러와서 위의 네 개의 w를 얻었습니다.<br/>\n",
    "잘 동작하는지 확인해보겠습니다."
   ]
  },
  {
   "cell_type": "code",
   "execution_count": 15,
   "id": "005db6ed-1dc9-467a-a16e-714a9a394aa7",
   "metadata": {},
   "outputs": [
    {
     "data": {
      "text/plain": [
       "0.14795850337252675"
      ]
     },
     "execution_count": 15,
     "metadata": {},
     "output_type": "execute_result"
    }
   ],
   "source": [
    "prediction_petal = X.dot(weight_petal)\n",
    "error_petal = sum(abs(prediction_petal - y_petal)) / len(prediction_petal)\n",
    "error_petal"
   ]
  },
  {
   "cell_type": "markdown",
   "id": "9db2017a-d79d-4380-8ae2-63c4e96bf620",
   "metadata": {},
   "source": [
    "MAE는 0.14795 정도로 나왔네요!<br/>\n",
    "베이스라인 1의 평균 에러가 0.43이었던 것에 비해 줄어들었습니다<br/>\n",
    "같은 방식으로 꽃받침의 weight도 구해보겠습니다"
   ]
  },
  {
   "cell_type": "code",
   "execution_count": 18,
   "id": "b98e4dca-719d-4ecd-a23d-cc40e2c4a1a2",
   "metadata": {},
   "outputs": [
    {
     "data": {
      "text/plain": [
       "array([-0.2158848 ,  0.44342083, -0.21595546,  1.67326006])"
      ]
     },
     "execution_count": 18,
     "metadata": {},
     "output_type": "execute_result"
    }
   ],
   "source": [
    "weight_sepal = doted_inv_t.dot(y_sepal)\n",
    "weight_sepal"
   ]
  },
  {
   "cell_type": "code",
   "execution_count": 21,
   "id": "05d31b97-8d70-41c3-b7ea-ab4d5cba5b96",
   "metadata": {},
   "outputs": [
    {
     "data": {
      "text/plain": [
       "0.22038467760709277"
      ]
     },
     "execution_count": 21,
     "metadata": {},
     "output_type": "execute_result"
    }
   ],
   "source": [
    "prediction_sepal = X.dot(weight_sepal)\n",
    "error_sepal = sum(abs(prediction_sepal - y_sepal)) / len(prediction_sepal)\n",
    "error_sepal"
   ]
  },
  {
   "cell_type": "markdown",
   "id": "c5caec3a-7a23-4ae4-9c03-a414de9392f0",
   "metadata": {},
   "source": [
    "꽃받침 MAE도 0.2203 정도로 나왔습니다."
   ]
  },
  {
   "cell_type": "markdown",
   "id": "0db018ab-219f-4dc0-a2da-e3cda7c48a68",
   "metadata": {},
   "source": [
    "위에서 했던 계산 전부를 sklearn의 LinearRegression 클래스에서 자동으로 계산해줍니다!<br/>\n",
    "sklearn을 써보고 위의 계산과 오차가 얼마나 다른지 확인해보겠습니다."
   ]
  },
  {
   "cell_type": "code",
   "execution_count": 26,
   "id": "8a3b3016-2aae-4eb7-9f7d-6c509f49d0c8",
   "metadata": {},
   "outputs": [
    {
     "data": {
      "text/plain": [
       "LinearRegression()"
      ]
     },
     "execution_count": 26,
     "metadata": {},
     "output_type": "execute_result"
    }
   ],
   "source": [
    "from sklearn.linear_model import LinearRegression\n",
    "\n",
    "model_petal = LinearRegression() # 꽃잎의 너비를 예측하는 모델을 선언\n",
    "model_petal.fit(X[:, :3], y_petal) # X에 추가했던 ones 제거해주세요!\n",
    "\n",
    "model_sepal = LinearRegression() # 꽃받침의 너비를 예측하는 모델을 선언\n",
    "model_sepal.fit(X[:, :3], y_sepal) # X에 추가했던 ones 제거해주세요!\n",
    "\n",
    "# *** cikit learn은 패키지 내부에서 intercept(절편) 계산을 하기 때문에\n",
    "# 좀전에 절편 계산을 위해 넣어준 ones는 X에서 제외합니다."
   ]
  },
  {
   "cell_type": "code",
   "execution_count": 31,
   "id": "d2404fbc-7d8c-455f-805e-ac32a021f346",
   "metadata": {},
   "outputs": [
    {
     "data": {
      "text/plain": [
       "0.22038467760709296"
      ]
     },
     "execution_count": 31,
     "metadata": {},
     "output_type": "execute_result"
    }
   ],
   "source": [
    "prediction_sepal_scikit = model_sepal.predict(X[:,:3])\n",
    "scikit_sepal_error = sum(abs(prediction_sepal_scikit - y_sepal)) / len(prediction_sepal_scikit)\n",
    "scikit_sepal_error"
   ]
  },
  {
   "cell_type": "code",
   "execution_count": 32,
   "id": "8c967ba5-5ff5-465b-912e-7561bd16e48f",
   "metadata": {},
   "outputs": [
    {
     "data": {
      "text/plain": [
       "0.14795850337252864"
      ]
     },
     "execution_count": 32,
     "metadata": {},
     "output_type": "execute_result"
    }
   ],
   "source": [
    "prediction_petal_scikit = model_petal.predict(X[:,:3])\n",
    "scikit_petal_error = sum(abs(prediction_petal_scikit - y_petal)) / len(prediction_petal_scikit)\n",
    "scikit_petal_error"
   ]
  },
  {
   "cell_type": "code",
   "execution_count": 35,
   "id": "3fcb8525-acf1-4c74-b40c-ce5104aefa2d",
   "metadata": {},
   "outputs": [
    {
     "name": "stdout",
     "output_type": "stream",
     "text": [
      "직접 구현한 Normal equation 꽃잎 너비 error: 0.14795850337252675\n",
      "sklearn으로 LinearRegression 모델을 사용한 꽃잎 너비 error: 0.14795850337252864\n",
      "직접 구현한 Normal equation 꽃받침 너비 error: 0.22038467760709277\n",
      "sklearn으로 LinearRegression 모델을 사용한 꽃받침 너비 error: 0.22038467760709296\n"
     ]
    }
   ],
   "source": [
    "print('직접 구현한 Normal equation 꽃잎 너비 error:', error_petal)\n",
    "print('sklearn으로 LinearRegression 모델을 사용한 꽃잎 너비 error:', scikit_petal_error)\n",
    "print('직접 구현한 Normal equation 꽃받침 너비 error:', error_sepal)\n",
    "print('sklearn으로 LinearRegression 모델을 사용한 꽃받침 너비 error:', scikit_sepal_error)"
   ]
  },
  {
   "cell_type": "markdown",
   "id": "b105d4e8-a99c-4f2d-a0c5-e1f0de318c31",
   "metadata": {},
   "source": [
    "직접 구한한 모델과 패키지를 사용한 모델의 오차가 거의 비슷하게 도출되는 것을 확인할 수 있습니다.<br/>\n",
    "이제 만든 모델로 제출 파일을 만들어보겠습니다."
   ]
  },
  {
   "cell_type": "code",
   "execution_count": 38,
   "id": "a79d03e5-47dd-4996-89ef-a6c4b8894145",
   "metadata": {},
   "outputs": [],
   "source": [
    "submission = pd.read_csv('sample_submission.csv') # submission 파일 불러오기\n",
    "test_set = pd.read_csv('iris_test.csv') # test file 불러오기"
   ]
  },
  {
   "cell_type": "code",
   "execution_count": 39,
   "id": "fbb4e53e-2729-4391-b3df-a3df31886a58",
   "metadata": {},
   "outputs": [],
   "source": [
    "test_set['species'] = test_set['species'].apply(encode_species2int)\n",
    "X = test_set[['species', 'sepal length (cm)', 'petal length (cm)']]"
   ]
  },
  {
   "cell_type": "code",
   "execution_count": 40,
   "id": "80d460e7-5e47-42cd-a20d-74e5c30e8b25",
   "metadata": {},
   "outputs": [],
   "source": [
    "pred_petal = model_petal.predict(X) # 꽃잎 길이 예측\n",
    "pred_sepal = model_sepal.predict(X) # 꽃받침 길이 예측"
   ]
  },
  {
   "cell_type": "code",
   "execution_count": 41,
   "id": "19abb149-1708-4f11-a36f-a9b0f0fcebce",
   "metadata": {},
   "outputs": [],
   "source": [
    "submission['sepal width (cm)'] = pred_sepal\n",
    "submission['petal width (cm)'] = pred_petal\n",
    "\n",
    "submission.to_csv('second_submission.csv', index = False)"
   ]
  },
  {
   "cell_type": "code",
   "execution_count": null,
   "id": "c4e0eca4-0a8b-4dc2-b7ba-5639d33c88ee",
   "metadata": {},
   "outputs": [],
   "source": []
  }
 ],
 "metadata": {
  "kernelspec": {
   "display_name": "Python 3 (ipykernel)",
   "language": "python",
   "name": "python3"
  },
  "language_info": {
   "codemirror_mode": {
    "name": "ipython",
    "version": 3
   },
   "file_extension": ".py",
   "mimetype": "text/x-python",
   "name": "python",
   "nbconvert_exporter": "python",
   "pygments_lexer": "ipython3",
   "version": "3.8.12"
  }
 },
 "nbformat": 4,
 "nbformat_minor": 5
}
