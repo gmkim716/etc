{
 "cells": [
  {
   "cell_type": "markdown",
   "id": "7245650f-60ca-4f44-9c7f-e46bd2b4293c",
   "metadata": {},
   "source": [
    "# 누구나 할 수 있는 데이터 분석"
   ]
  },
  {
   "cell_type": "markdown",
   "id": "b0f02eb7-7ef6-4825-9f9f-d2c79197a100",
   "metadata": {},
   "source": [
    "## 1. 데이터 불러오기 "
   ]
  },
  {
   "cell_type": "code",
   "execution_count": 1,
   "id": "6b208a11-2615-46a8-ab41-8bfd15b5ed8c",
   "metadata": {},
   "outputs": [
    {
     "data": {
      "text/html": [
       "<div>\n",
       "<style scoped>\n",
       "    .dataframe tbody tr th:only-of-type {\n",
       "        vertical-align: middle;\n",
       "    }\n",
       "\n",
       "    .dataframe tbody tr th {\n",
       "        vertical-align: top;\n",
       "    }\n",
       "\n",
       "    .dataframe thead th {\n",
       "        text-align: right;\n",
       "    }\n",
       "</style>\n",
       "<table border=\"1\" class=\"dataframe\">\n",
       "  <thead>\n",
       "    <tr style=\"text-align: right;\">\n",
       "      <th></th>\n",
       "      <th>id</th>\n",
       "      <th>species</th>\n",
       "      <th>sepal length (cm)</th>\n",
       "      <th>petal length (cm)</th>\n",
       "      <th>sepal width (cm)</th>\n",
       "      <th>petal width (cm)</th>\n",
       "    </tr>\n",
       "  </thead>\n",
       "  <tbody>\n",
       "    <tr>\n",
       "      <th>0</th>\n",
       "      <td>0</td>\n",
       "      <td>setosa</td>\n",
       "      <td>4.4</td>\n",
       "      <td>1.4</td>\n",
       "      <td>2.9</td>\n",
       "      <td>0.2</td>\n",
       "    </tr>\n",
       "    <tr>\n",
       "      <th>1</th>\n",
       "      <td>1</td>\n",
       "      <td>versicolor</td>\n",
       "      <td>6.4</td>\n",
       "      <td>4.5</td>\n",
       "      <td>3.2</td>\n",
       "      <td>1.5</td>\n",
       "    </tr>\n",
       "    <tr>\n",
       "      <th>2</th>\n",
       "      <td>2</td>\n",
       "      <td>virginica</td>\n",
       "      <td>6.2</td>\n",
       "      <td>4.8</td>\n",
       "      <td>2.8</td>\n",
       "      <td>1.8</td>\n",
       "    </tr>\n",
       "    <tr>\n",
       "      <th>3</th>\n",
       "      <td>3</td>\n",
       "      <td>virginica</td>\n",
       "      <td>7.2</td>\n",
       "      <td>6.1</td>\n",
       "      <td>3.6</td>\n",
       "      <td>2.5</td>\n",
       "    </tr>\n",
       "    <tr>\n",
       "      <th>4</th>\n",
       "      <td>4</td>\n",
       "      <td>setosa</td>\n",
       "      <td>4.9</td>\n",
       "      <td>1.4</td>\n",
       "      <td>3.0</td>\n",
       "      <td>0.2</td>\n",
       "    </tr>\n",
       "  </tbody>\n",
       "</table>\n",
       "</div>"
      ],
      "text/plain": [
       "   id     species  sepal length (cm)  petal length (cm)  sepal width (cm)  \\\n",
       "0   0      setosa                4.4                1.4               2.9   \n",
       "1   1  versicolor                6.4                4.5               3.2   \n",
       "2   2   virginica                6.2                4.8               2.8   \n",
       "3   3   virginica                7.2                6.1               3.6   \n",
       "4   4      setosa                4.9                1.4               3.0   \n",
       "\n",
       "   petal width (cm)  \n",
       "0               0.2  \n",
       "1               1.5  \n",
       "2               1.8  \n",
       "3               2.5  \n",
       "4               0.2  "
      ]
     },
     "execution_count": 1,
     "metadata": {},
     "output_type": "execute_result"
    }
   ],
   "source": [
    "import pandas as pd\n",
    "\n",
    "train = pd.read_csv('iris_train.csv')\n",
    "\n",
    "train.head()"
   ]
  },
  {
   "cell_type": "markdown",
   "id": "4e3dd323-4c26-4da7-b2fc-c84f0e623e79",
   "metadata": {},
   "source": [
    "## 2. 데이터 설명 방정식 만들기\n",
    "데이터 분석이란 주어진 데이터를 분석하여 데이터들 사이의 관계를 알아내고,\n",
    "이 관계를 통해서 주어지지 않는 데이터를 예측하는 것 입니다.<br/>\n",
    "이는 방정식을 푸는 일과 같습니다.<br/>\n",
    "Y = aX + b"
   ]
  },
  {
   "cell_type": "code",
   "execution_count": 2,
   "id": "83021e97-ac24-4918-b766-1c45f54b1762",
   "metadata": {},
   "outputs": [
    {
     "data": {
      "text/plain": [
       "0     2.9\n",
       "1     3.2\n",
       "2     2.8\n",
       "3     3.6\n",
       "4     3.0\n",
       "     ... \n",
       "70    2.8\n",
       "71    2.9\n",
       "72    2.2\n",
       "73    2.4\n",
       "74    3.1\n",
       "Name: sepal width (cm), Length: 75, dtype: float64"
      ]
     },
     "execution_count": 2,
     "metadata": {},
     "output_type": "execute_result"
    }
   ],
   "source": [
    "# 꽃받침의 길이와 너비를 각각 따로 저장\n",
    "sepal_length = train['sepal length (cm)']\n",
    "sepal_width = train['sepal width (cm)']\n",
    "\n",
    "sepal_width"
   ]
  },
  {
   "cell_type": "markdown",
   "id": "51864d32-d20c-4ad2-9892-ff1e59346877",
   "metadata": {},
   "source": [
    "## a 구하기"
   ]
  },
  {
   "cell_type": "code",
   "execution_count": 3,
   "id": "2db8b32a-b19c-4f09-abf7-51f9c5053355",
   "metadata": {},
   "outputs": [
    {
     "name": "stdout",
     "output_type": "stream",
     "text": [
      "꽃받침 길이의 평균:6.04 \n",
      "꽃받침 너비의 평균:2.96\n",
      "따라서 꽃받침 너비는 꽃받침 길이의 평균 0.49배 입니다.\n"
     ]
    }
   ],
   "source": [
    "import numpy as np\n",
    "\n",
    "# 꽃받침 길이의 평균과 꽃받침 너비의 평균을 구합니다.\n",
    "sepal_length_mean = np.mean(sepal_length)\n",
    "sepal_width_mean = np.mean(sepal_width)\n",
    "\n",
    "# 두 값을 나누어서 꽃받침의 길이와 너비의 관계를 살펴봅니다.\n",
    "print(f\"꽃받침 길이의 평균:{sepal_length_mean:.2f} \\n꽃받침 너비의 평균:{sepal_width_mean:.2f}\")\n",
    "print(f\"따라서 꽃받침 너비는 꽃받침 길이의 평균 {sepal_width_mean/sepal_length_mean:.2f}배 입니다.\")"
   ]
  },
  {
   "cell_type": "markdown",
   "id": "235d1a2c-43f2-4380-a9dd-9576ddeddb75",
   "metadata": {},
   "source": [
    " 이를 통해 우리가 구하고자 하는<br/> 'Y = [꽃받침의 너비]는 X = [꽃받침의 길이]의 절반 정도의 크기를 가지고 있다'고 생각할 수 있습니다.<br/>\n",
    "즉, a = 0.5로 생각할 수 있습니다. 이를 바탕으로 방정식을 업데이트 합니다.<br/>\n",
    "Y = 0.5X + b "
   ]
  },
  {
   "cell_type": "markdown",
   "id": "18f7ed27-837b-4ada-843d-e5bf62d49b7d",
   "metadata": {},
   "source": [
    "## b 구하기\n",
    "a는 X와 Y의 강력한 관계를 나타냈다면, b는 그보다는 약한 관계를 나타냅니다.<br/>\n",
    "X와 Y의 관계에서 a만으로는 설명하지 못하는 부분을 구하는 과정이라고 볼 수 있습니다.<br/>\n",
    "a를 넣어서 새롭게 업데이트 된 방정식을 사용하면 b를 구할 수 있습니다.<br/>\n",
    "Y = 0.5X + b<br/>\n",
    "b = Y - 0.5X"
   ]
  },
  {
   "cell_type": "code",
   "execution_count": 4,
   "id": "85bac8a6-5b4b-41f9-9cee-5457d31f926d",
   "metadata": {},
   "outputs": [
    {
     "name": "stdout",
     "output_type": "stream",
     "text": [
      "업데이트 된 방적식의 b는 -0.06 입니다.\n"
     ]
    }
   ],
   "source": [
    "# b = Y - 0.5X 를 그대로 작성합니다. 여기서도 평균값을 이용합니다.\n",
    "b = sepal_width_mean - 0.5 * sepal_length_mean\n",
    "\n",
    "print(f\"업데이트 된 방적식의 b는 {b:.2f} 입니다.\")"
   ]
  },
  {
   "cell_type": "markdown",
   "id": "edebc8ac-08e3-43f3-aeb0-e1ae3294865d",
   "metadata": {},
   "source": [
    "## Y = 0.5X - 0.06\n",
    "꽃받침 길이를 통해서 꽃받침 너비를 예측할 수 있는 방정식을 찾아냈습니다.<br/>\n",
    "이 식을 통해 결과 값을 예측해보겠습니다."
   ]
  },
  {
   "cell_type": "code",
   "execution_count": 5,
   "id": "bcdcac44-0bf6-441e-bde8-143846633739",
   "metadata": {},
   "outputs": [
    {
     "data": {
      "text/plain": [
       "0     2.14\n",
       "1     3.14\n",
       "2     3.04\n",
       "3     3.54\n",
       "4     2.39\n",
       "      ... \n",
       "70    3.19\n",
       "71    2.74\n",
       "72    3.04\n",
       "73    2.39\n",
       "74    3.39\n",
       "Name: sepal length (cm), Length: 75, dtype: float64"
      ]
     },
     "execution_count": 5,
     "metadata": {},
     "output_type": "execute_result"
    }
   ],
   "source": [
    "predict_sepal_width = 0.5 * sepal_length - 0.06\n",
    "predict_sepal_width"
   ]
  },
  {
   "cell_type": "markdown",
   "id": "826e13c6-2819-413e-857e-7f3091aace16",
   "metadata": {},
   "source": [
    "## 3. sepal_width 예측 결과 평가하기\n",
    "예측값을 만드는 것으로 데이터 분석이 끝나지는 않습니다.<br/>\n",
    "우리가 예측한 값이 얼마나 정확한지 평가하는 과정을 통해 어떤 부분이 부족한지, 어떤 부분을 개선해야 더 정확한 예측이 가능한지 살펴봐야 합니다.<br/>\n",
    "이번 대회의 평가 지표(metric)은 MAE, Mean Absolute Error 입니다.<br/>\n",
    "MAE는 우리가 예측한 값과 실제 값이 얼마나 차이가 나는지, 그 차이값들의 평균 값을 의미합니다.<br/>\n",
    "하지만 단순한 차이값이라고 하면 예측 값이 실제보다 더 큰 경우도 있고 더 작은 경우도 있기 때문에,<br/> 차이값(error)의 절대값(absolute)들을 평균(mean)을 낸 것이 MAE 입니다.<br/>"
   ]
  },
  {
   "cell_type": "code",
   "execution_count": 6,
   "id": "7974aba9-23d6-4ce2-8383-ce6d4d929a2f",
   "metadata": {},
   "outputs": [
    {
     "name": "stdout",
     "output_type": "stream",
     "text": [
      "이 방정식의 평균 에러는 0.43 입니다.\n"
     ]
    }
   ],
   "source": [
    "# 대회 규칙 탭의 mae() 함수를 그대로 사용합니다.\n",
    "import numpy as np\n",
    "\n",
    "def MAE(true, pred):\n",
    "    score = np.mean(np.abs(true-pred))\n",
    "    return score\n",
    "\n",
    "# 실제 정답 값을 준비합니다.\n",
    "real_sepal_width = sepal_width.copy()\n",
    "\n",
    "# 정답과 예측 값을 함수에 넣어 결과를 확인합니다.\n",
    "mean_error = MAE(real_sepal_width, predict_sepal_width)\n",
    "\n",
    "print(f\"이 방정식의 평균 에러는 {mean_error:.2f} 입니다.\")"
   ]
  },
  {
   "cell_type": "markdown",
   "id": "b1c8c126-fb34-4ee4-9ab4-c423671d48d0",
   "metadata": {},
   "source": [
    "결과를 보니 이 방정식으로는 평균 0.43cm 정도의 오차를 내는 정확도로 꽃받침의 너비를 예측합니다.<br/>\n",
    "이 정도면 실생활에서 사용하기에 나쁘지는 않는 수준인 듯 합니다."
   ]
  },
  {
   "cell_type": "markdown",
   "id": "3553244b-bb3b-4718-b12a-773358675da3",
   "metadata": {},
   "source": [
    "## 4. petal_width 방정식 만들기\n",
    "위와 같은 방법으로 petal_width도 예측해봅시다."
   ]
  },
  {
   "cell_type": "code",
   "execution_count": 7,
   "id": "52f3ae86-e73d-4cc8-a834-ab338af10fe4",
   "metadata": {},
   "outputs": [
    {
     "name": "stdout",
     "output_type": "stream",
     "text": [
      "꽃잎 길이의 평규:4.26 \n",
      "꽃잎 너비의 평균:1.38\n",
      "따라서 꽃잎 너비는 꽃잎 길이의 평균 0.32배 입니다.\n",
      "업데이트 된 방정식의 b는 0.02 입니다.\n"
     ]
    }
   ],
   "source": [
    "# 데이터 선택하기\n",
    "petal_length = train['petal length (cm)']\n",
    "petal_width = train['petal width (cm)']\n",
    "\n",
    "# 꽃잎 길이의 평균과 꽃잎 너비의 평균을 구합니다.\n",
    "petal_length_mean = np.mean(petal_length)\n",
    "petal_width_mean = np.mean(petal_width)\n",
    "\n",
    "# 두 값을 나누어 주어서 꽃잎의 길이와 너비의 관계를 살펴봅니다.\n",
    "print(f\"꽃잎 길이의 평규:{petal_length_mean:.2f} \\n꽃잎 너비의 평균:{petal_width_mean:.2f}\")\n",
    "print(f\"따라서 꽃잎 너비는 꽃잎 길이의 평균 {petal_width_mean/petal_length_mean:.2f}배 입니다.\")\n",
    "a = petal_width_mean/petal_length_mean\n",
    "\n",
    "# 꽃받침과 같은 방식으로 b를 구합니다.\n",
    "b = petal_width_mean - 0.32 * petal_length_mean\n",
    "\n",
    "print(f\"업데이트 된 방정식의 b는 {b:.2f} 입니다.\")"
   ]
  },
  {
   "cell_type": "markdown",
   "id": "93389593-3a58-42fb-871e-88139db1cf71",
   "metadata": {},
   "source": [
    "따라서 petal_width에 대한 방정식은<br/>\n",
    "Y = 0.32*X - 0.02가 됩니다."
   ]
  },
  {
   "cell_type": "code",
   "execution_count": 8,
   "id": "838ad53b-d11f-4de7-8286-14ddc7d940b8",
   "metadata": {},
   "outputs": [
    {
     "name": "stdout",
     "output_type": "stream",
     "text": [
      "이 방정식의 평균 에러는 0.21 입니다.\n"
     ]
    }
   ],
   "source": [
    "# 예측 값을 구합니다.\n",
    "predict_petal_width = 0.32 * petal_length - 0.02\n",
    "\n",
    "# 실제 정답 값을 준비합니다.\n",
    "real_petal_width = petal_width.copy()\n",
    "\n",
    "# 정답과 예측 값을 함수에 넣어 결과를 확인합니다.\n",
    "mean_error = MAE(real_petal_width, predict_petal_width)\n",
    "\n",
    "print(f\"이 방정식의 평균 에러는 {mean_error:.2f} 입니다.\")"
   ]
  },
  {
   "cell_type": "markdown",
   "id": "442e1868-6110-498e-ab86-c6a78dc214a1",
   "metadata": {},
   "source": [
    "## 5. test_data 예측하기\n",
    "지금까지 train.csv를 통해서 데이터들 사이의 관계를 파악했습니다.<br/>\n",
    "그 결과, 꽃받침 너비는 꽃받침 길이의 절반 정도라는 것을 파악했고, 꽃잎 너비는 꽃잎의 3분의 1 정도라는 것을 파악했습니다.<br/>\n",
    "이제 이 관계를 이용해서 실제로 주어지지 않은 데이터를 예측해봅시다."
   ]
  },
  {
   "cell_type": "code",
   "execution_count": 9,
   "id": "789613a8-f540-43a8-b22d-aaa3b25262f0",
   "metadata": {},
   "outputs": [
    {
     "data": {
      "text/html": [
       "<div>\n",
       "<style scoped>\n",
       "    .dataframe tbody tr th:only-of-type {\n",
       "        vertical-align: middle;\n",
       "    }\n",
       "\n",
       "    .dataframe tbody tr th {\n",
       "        vertical-align: top;\n",
       "    }\n",
       "\n",
       "    .dataframe thead th {\n",
       "        text-align: right;\n",
       "    }\n",
       "</style>\n",
       "<table border=\"1\" class=\"dataframe\">\n",
       "  <thead>\n",
       "    <tr style=\"text-align: right;\">\n",
       "      <th></th>\n",
       "      <th>id</th>\n",
       "      <th>species</th>\n",
       "      <th>sepal length (cm)</th>\n",
       "      <th>petal length (cm)</th>\n",
       "    </tr>\n",
       "  </thead>\n",
       "  <tbody>\n",
       "    <tr>\n",
       "      <th>0</th>\n",
       "      <td>0</td>\n",
       "      <td>setosa</td>\n",
       "      <td>5.4</td>\n",
       "      <td>1.7</td>\n",
       "    </tr>\n",
       "    <tr>\n",
       "      <th>1</th>\n",
       "      <td>1</td>\n",
       "      <td>setosa</td>\n",
       "      <td>5.7</td>\n",
       "      <td>1.5</td>\n",
       "    </tr>\n",
       "    <tr>\n",
       "      <th>2</th>\n",
       "      <td>2</td>\n",
       "      <td>setosa</td>\n",
       "      <td>5.3</td>\n",
       "      <td>1.5</td>\n",
       "    </tr>\n",
       "    <tr>\n",
       "      <th>3</th>\n",
       "      <td>3</td>\n",
       "      <td>setosa</td>\n",
       "      <td>5.1</td>\n",
       "      <td>1.9</td>\n",
       "    </tr>\n",
       "    <tr>\n",
       "      <th>4</th>\n",
       "      <td>4</td>\n",
       "      <td>virginica</td>\n",
       "      <td>6.0</td>\n",
       "      <td>4.8</td>\n",
       "    </tr>\n",
       "  </tbody>\n",
       "</table>\n",
       "</div>"
      ],
      "text/plain": [
       "   id    species  sepal length (cm)  petal length (cm)\n",
       "0   0     setosa                5.4                1.7\n",
       "1   1     setosa                5.7                1.5\n",
       "2   2     setosa                5.3                1.5\n",
       "3   3     setosa                5.1                1.9\n",
       "4   4  virginica                6.0                4.8"
      ]
     },
     "execution_count": 9,
     "metadata": {},
     "output_type": "execute_result"
    }
   ],
   "source": [
    "# 우리가 예측하고자 하는 test 데이터를 불러옵니다.\n",
    "test = pd.read_csv('iris_test.csv')\n",
    "\n",
    "test.head()"
   ]
  },
  {
   "cell_type": "markdown",
   "id": "b7532dc0-b398-4e53-9181-35b45f9c1528",
   "metadata": {},
   "source": [
    "test 데이터에는 sepal width (cm)와 petal width (cm)가 존재하지 않습니다.<br/>\n",
    "하지만 우리는 위에서 sepal length를 이용해서 sepal width를 예측할 수 있는 방정식을 구했고,<br/>\n",
    "petal length를 이용해서 petal width를 예측할 수 있는 방정식을 구했습니다.<br/>\n",
    "sepal 방정식 : Y = 0.5X - 0.06<br/>\n",
    "petal 방정식 : Y = 0.3X - 0.75<br/>\n",
    "이제 두 식을 사용하여 test 데이터를 채워봅시다."
   ]
  },
  {
   "cell_type": "code",
   "execution_count": 10,
   "id": "f6da08e9-c2cf-41f1-b423-20c80f65e358",
   "metadata": {},
   "outputs": [
    {
     "data": {
      "text/plain": [
       "0    -0.33\n",
       "1     0.60\n",
       "2     0.69\n",
       "3     1.08\n",
       "4    -0.33\n",
       "      ... \n",
       "70    0.63\n",
       "71    0.33\n",
       "72    0.60\n",
       "73    0.24\n",
       "74    0.72\n",
       "Name: petal length (cm), Length: 75, dtype: float64"
      ]
     },
     "execution_count": 10,
     "metadata": {},
     "output_type": "execute_result"
    }
   ],
   "source": [
    "# 예측의 재료를 가져옵니다.\n",
    "sepal_length = train['sepal length (cm)']\n",
    "petal_length = train['petal length (cm)']\n",
    "\n",
    "# 예측을 진행합니다.\n",
    "predict_sepal_width = 0.5 * sepal_length - 0.06\n",
    "predict_petal_width = 0.3 * petal_length - 0.75\n",
    "\n",
    "# 예측 결과를 확인합니다.\n",
    "predict_petal_width"
   ]
  },
  {
   "cell_type": "markdown",
   "id": "02228352-df56-45b4-a090-314ffbda712f",
   "metadata": {},
   "source": [
    "## 6. dacon 대회에 제출하기\n",
    "이제 이 예측 결과를 submission.csv 파일로 만들어서 대회 페이지에 제출해보도록 합시다.<br/>\n",
    "제출한 뒤 리더보드를 통해 결과를 확인합니다."
   ]
  },
  {
   "cell_type": "code",
   "execution_count": 11,
   "id": "506e1475-e207-4ef0-b7e1-bf41d54e77f8",
   "metadata": {},
   "outputs": [
    {
     "data": {
      "text/html": [
       "<div>\n",
       "<style scoped>\n",
       "    .dataframe tbody tr th:only-of-type {\n",
       "        vertical-align: middle;\n",
       "    }\n",
       "\n",
       "    .dataframe tbody tr th {\n",
       "        vertical-align: top;\n",
       "    }\n",
       "\n",
       "    .dataframe thead th {\n",
       "        text-align: right;\n",
       "    }\n",
       "</style>\n",
       "<table border=\"1\" class=\"dataframe\">\n",
       "  <thead>\n",
       "    <tr style=\"text-align: right;\">\n",
       "      <th></th>\n",
       "      <th>id</th>\n",
       "      <th>sepal width (cm)</th>\n",
       "      <th>petal width (cm)</th>\n",
       "    </tr>\n",
       "  </thead>\n",
       "  <tbody>\n",
       "    <tr>\n",
       "      <th>0</th>\n",
       "      <td>0</td>\n",
       "      <td>0</td>\n",
       "      <td>0</td>\n",
       "    </tr>\n",
       "    <tr>\n",
       "      <th>1</th>\n",
       "      <td>1</td>\n",
       "      <td>0</td>\n",
       "      <td>0</td>\n",
       "    </tr>\n",
       "    <tr>\n",
       "      <th>2</th>\n",
       "      <td>2</td>\n",
       "      <td>0</td>\n",
       "      <td>0</td>\n",
       "    </tr>\n",
       "    <tr>\n",
       "      <th>3</th>\n",
       "      <td>3</td>\n",
       "      <td>0</td>\n",
       "      <td>0</td>\n",
       "    </tr>\n",
       "    <tr>\n",
       "      <th>4</th>\n",
       "      <td>4</td>\n",
       "      <td>0</td>\n",
       "      <td>0</td>\n",
       "    </tr>\n",
       "  </tbody>\n",
       "</table>\n",
       "</div>"
      ],
      "text/plain": [
       "   id  sepal width (cm)  petal width (cm)\n",
       "0   0                 0                 0\n",
       "1   1                 0                 0\n",
       "2   2                 0                 0\n",
       "3   3                 0                 0\n",
       "4   4                 0                 0"
      ]
     },
     "execution_count": 11,
     "metadata": {},
     "output_type": "execute_result"
    }
   ],
   "source": [
    "# 제출용 sample 파일을 불러옵니다.\n",
    "submission = pd.read_csv('sample_submission.csv')\n",
    "submission.head()"
   ]
  },
  {
   "cell_type": "code",
   "execution_count": 12,
   "id": "1abcad22-68bd-49bb-90f9-fe7796ff17c5",
   "metadata": {},
   "outputs": [
    {
     "data": {
      "text/html": [
       "<div>\n",
       "<style scoped>\n",
       "    .dataframe tbody tr th:only-of-type {\n",
       "        vertical-align: middle;\n",
       "    }\n",
       "\n",
       "    .dataframe tbody tr th {\n",
       "        vertical-align: top;\n",
       "    }\n",
       "\n",
       "    .dataframe thead th {\n",
       "        text-align: right;\n",
       "    }\n",
       "</style>\n",
       "<table border=\"1\" class=\"dataframe\">\n",
       "  <thead>\n",
       "    <tr style=\"text-align: right;\">\n",
       "      <th></th>\n",
       "      <th>id</th>\n",
       "      <th>sepal width (cm)</th>\n",
       "      <th>petal width (cm)</th>\n",
       "    </tr>\n",
       "  </thead>\n",
       "  <tbody>\n",
       "    <tr>\n",
       "      <th>0</th>\n",
       "      <td>0</td>\n",
       "      <td>2.14</td>\n",
       "      <td>-0.33</td>\n",
       "    </tr>\n",
       "    <tr>\n",
       "      <th>1</th>\n",
       "      <td>1</td>\n",
       "      <td>3.14</td>\n",
       "      <td>0.60</td>\n",
       "    </tr>\n",
       "    <tr>\n",
       "      <th>2</th>\n",
       "      <td>2</td>\n",
       "      <td>3.04</td>\n",
       "      <td>0.69</td>\n",
       "    </tr>\n",
       "    <tr>\n",
       "      <th>3</th>\n",
       "      <td>3</td>\n",
       "      <td>3.54</td>\n",
       "      <td>1.08</td>\n",
       "    </tr>\n",
       "    <tr>\n",
       "      <th>4</th>\n",
       "      <td>4</td>\n",
       "      <td>2.39</td>\n",
       "      <td>-0.33</td>\n",
       "    </tr>\n",
       "    <tr>\n",
       "      <th>...</th>\n",
       "      <td>...</td>\n",
       "      <td>...</td>\n",
       "      <td>...</td>\n",
       "    </tr>\n",
       "    <tr>\n",
       "      <th>70</th>\n",
       "      <td>70</td>\n",
       "      <td>3.19</td>\n",
       "      <td>0.63</td>\n",
       "    </tr>\n",
       "    <tr>\n",
       "      <th>71</th>\n",
       "      <td>71</td>\n",
       "      <td>2.74</td>\n",
       "      <td>0.33</td>\n",
       "    </tr>\n",
       "    <tr>\n",
       "      <th>72</th>\n",
       "      <td>72</td>\n",
       "      <td>3.04</td>\n",
       "      <td>0.60</td>\n",
       "    </tr>\n",
       "    <tr>\n",
       "      <th>73</th>\n",
       "      <td>73</td>\n",
       "      <td>2.39</td>\n",
       "      <td>0.24</td>\n",
       "    </tr>\n",
       "    <tr>\n",
       "      <th>74</th>\n",
       "      <td>74</td>\n",
       "      <td>3.39</td>\n",
       "      <td>0.72</td>\n",
       "    </tr>\n",
       "  </tbody>\n",
       "</table>\n",
       "<p>75 rows × 3 columns</p>\n",
       "</div>"
      ],
      "text/plain": [
       "    id  sepal width (cm)  petal width (cm)\n",
       "0    0              2.14             -0.33\n",
       "1    1              3.14              0.60\n",
       "2    2              3.04              0.69\n",
       "3    3              3.54              1.08\n",
       "4    4              2.39             -0.33\n",
       "..  ..               ...               ...\n",
       "70  70              3.19              0.63\n",
       "71  71              2.74              0.33\n",
       "72  72              3.04              0.60\n",
       "73  73              2.39              0.24\n",
       "74  74              3.39              0.72\n",
       "\n",
       "[75 rows x 3 columns]"
      ]
     },
     "execution_count": 12,
     "metadata": {},
     "output_type": "execute_result"
    }
   ],
   "source": [
    "# 위에서 구한 예측값을 그대로 넣어줍니다.\n",
    "submission['sepal width (cm)'] = predict_sepal_width\n",
    "submission['petal width (cm)'] = predict_petal_width\n",
    "\n",
    "# 데이터가 잘 들어갔는지 확인합니다.\n",
    "submission"
   ]
  },
  {
   "cell_type": "code",
   "execution_count": 13,
   "id": "0df657c8-49a2-474a-b6ec-75bd5dd428bd",
   "metadata": {},
   "outputs": [],
   "source": [
    "# submission을 csv 파일로 저장합니다.\n",
    "# index = False란 추가적인 id를 부여할 필요가 없다는 뜻입니다.\n",
    "# 정확한 채점을 위해 꼭 index = False를 넣어주세요\n",
    "submission.to_csv('submission.csv', index=False)"
   ]
  },
  {
   "cell_type": "markdown",
   "id": "938f715e-633e-4896-bb70-0aaa01954c79",
   "metadata": {},
   "source": [
    "이렇게 생성된 submission.csv 파일을 데이콘 대회 페이지에 업로드 & 제출하여 결과를 확인하세요"
   ]
  },
  {
   "cell_type": "markdown",
   "id": "d229c216-15e5-4ae3-b005-e0f3b5dd3a7e",
   "metadata": {},
   "source": [
    "## 축하합니다! 데이터 분석을 완료하셨습니다!"
   ]
  },
  {
   "cell_type": "markdown",
   "id": "9795d278-6f28-4567-807c-e2d8a6d90a43",
   "metadata": {},
   "source": [
    "## (한 걸음 더) 방정식으로 모델 학습 맛보기\n",
    "모델 학습이란 무엇일까요?<br/>\n",
    "우리가 위에서 구한 방정식으로 모델 학습을 이해해봅시다.<br/>\n",
    "간단하게 sepal length를 이용해 petal width를 구한 방정식을 이용해보도록 하겠습니다.<br/>\n",
    "Y = 0.5X - 0.06<br/>\n",
    "위 식을 이용했을 때 평균 에러는 0.43 이었습니다.\n",
    "이보다 더 적은 에러를 내는, 더 정확한 식은 어떻게 찾을 수 있을까요?<br/>\n",
    "이 방정식의 a와 b를 변화시키면서 더 정확한 식을 찾아봅시다."
   ]
  },
  {
   "cell_type": "code",
   "execution_count": 14,
   "id": "09a31392-8e1a-4b58-8e98-81e6d3ee39ac",
   "metadata": {},
   "outputs": [],
   "source": [
    "# 탐색할 a와 b의 후보들을 마련합니다.\n",
    "a_list = [0.48, 0.49, 0.5, 0.51, 0.52] # 0.01 단위로 변화\n",
    "b_list = [-0.058, -0.059, -0.06, -0.061, -0.062] # 0.001 단위로 변화"
   ]
  },
  {
   "cell_type": "code",
   "execution_count": 15,
   "id": "7a59c0b8-812b-4e12-a50a-cdd6496b232d",
   "metadata": {},
   "outputs": [
    {
     "name": "stdout",
     "output_type": "stream",
     "text": [
      "모델 개선이 가능합니다.\n",
      "a=0.48, b=-0.058\n",
      "error=0.41373\n",
      "모델 개선이 가능합니다.\n",
      "a=0.48, b=-0.059\n",
      "error=0.41369\n",
      "모델 개선이 가능합니다.\n",
      "a=0.48, b=-0.06\n",
      "error=0.41365\n",
      "모델 개선이 가능합니다.\n",
      "a=0.48, b=-0.061\n",
      "error=0.41361\n",
      "모델 개선이 가능합니다.\n",
      "a=0.48, b=-0.062\n",
      "error=0.41357\n",
      "최적의 parameter는 a = 0.48, b = -0.062\n",
      "이때 평균 에러는 0.41 입니다.\n",
      "기존 방정식의 평균 에러 : 0.43\n",
      "모델 성능 개선 : 0.04\n"
     ]
    }
   ],
   "source": [
    "# 각각의 후보자들 중에서 가장 에러가 적은 후보를 고르는 함수를 작성합니다.\n",
    "def find_best_params(sepal_length, sepal_width):\n",
    "    min_error = 999\n",
    "    \n",
    "    for a in a_list:\n",
    "        for b in b_list:\n",
    "            predict = a * sepal_length + b\n",
    "            error = MAE(sepal_width, predict)\n",
    "            \n",
    "            if error < min_error:\n",
    "                print('모델 개선이 가능합니다.')\n",
    "                print(f'a={a}, b={b}')\n",
    "                print(f'error={error:.5f}')\n",
    "                min_error = error\n",
    "                coef, bias = a, b\n",
    "                \n",
    "    print(f'최적의 parameter는 a = {coef}, b = {bias}\\n이때 평균 에러는 {min_error:.2f} 입니다.')\n",
    "    return coef, bias, min_error\n",
    "\n",
    "a, b, error = find_best_params(sepal_length, sepal_width)\n",
    "print('기존 방정식의 평균 에러 : 0.43')\n",
    "print(f'모델 성능 개선 : {0.45 - error:.2f}')"
   ]
  },
  {
   "cell_type": "markdown",
   "id": "b40fe19e-e67b-46e2-9cd0-8238e09f5792",
   "metadata": {},
   "source": [
    "이런 식으로 더 정확한 예측 값을 구하도록 최적의 a와 b라는 best parameter를 찾아가는 과정이 학습입니다.<br/>\n",
    "머신러닝에서는 이 학습 과정이 자동으로 이루어지도록 짜여집니다.<br/>\n",
    "이 방법을 이용해서 더 정확한 방정식을 찾아서 성능을 개선하고, 찾은 방법을 코드 공유 게시판에 올려주세요"
   ]
  }
 ],
 "metadata": {
  "kernelspec": {
   "display_name": "Python 3 (ipykernel)",
   "language": "python",
   "name": "python3"
  },
  "language_info": {
   "codemirror_mode": {
    "name": "ipython",
    "version": 3
   },
   "file_extension": ".py",
   "mimetype": "text/x-python",
   "name": "python",
   "nbconvert_exporter": "python",
   "pygments_lexer": "ipython3",
   "version": "3.8.12"
  }
 },
 "nbformat": 4,
 "nbformat_minor": 5
}
