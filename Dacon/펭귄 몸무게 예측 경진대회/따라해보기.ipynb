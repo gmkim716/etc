{
 "cells": [
  {
   "cell_type": "markdown",
   "id": "f23e69f2-a156-4551-a15e-5f79fff3b131",
   "metadata": {},
   "source": [
    "## [Baseline] 1. 누구나 할 수 있는 데이터 분석 & 예측 따라해보기"
   ]
  },
  {
   "cell_type": "markdown",
   "id": "68258550-5555-45a5-8d60-6e4d8a09c394",
   "metadata": {},
   "source": [
    "### 1. 데이터 불러오기"
   ]
  },
  {
   "cell_type": "code",
   "execution_count": 4,
   "id": "de1b5d9d-918c-4a75-9789-a757fba3eeb3",
   "metadata": {},
   "outputs": [
    {
     "data": {
      "text/html": [
       "<div>\n",
       "<style scoped>\n",
       "    .dataframe tbody tr th:only-of-type {\n",
       "        vertical-align: middle;\n",
       "    }\n",
       "\n",
       "    .dataframe tbody tr th {\n",
       "        vertical-align: top;\n",
       "    }\n",
       "\n",
       "    .dataframe thead th {\n",
       "        text-align: right;\n",
       "    }\n",
       "</style>\n",
       "<table border=\"1\" class=\"dataframe\">\n",
       "  <thead>\n",
       "    <tr style=\"text-align: right;\">\n",
       "      <th></th>\n",
       "      <th>id</th>\n",
       "      <th>Species</th>\n",
       "      <th>Island</th>\n",
       "      <th>Clutch Completion</th>\n",
       "      <th>Culmen Length (mm)</th>\n",
       "      <th>Culmen Depth (mm)</th>\n",
       "      <th>Flipper Length (mm)</th>\n",
       "      <th>Sex</th>\n",
       "      <th>Delta 15 N (o/oo)</th>\n",
       "      <th>Delta 13 C (o/oo)</th>\n",
       "      <th>Body Mass (g)</th>\n",
       "    </tr>\n",
       "  </thead>\n",
       "  <tbody>\n",
       "    <tr>\n",
       "      <th>0</th>\n",
       "      <td>0</td>\n",
       "      <td>Gentoo penguin (Pygoscelis papua)</td>\n",
       "      <td>Biscoe</td>\n",
       "      <td>Yes</td>\n",
       "      <td>50.0</td>\n",
       "      <td>15.3</td>\n",
       "      <td>220</td>\n",
       "      <td>MALE</td>\n",
       "      <td>8.30515</td>\n",
       "      <td>-25.19017</td>\n",
       "      <td>5550</td>\n",
       "    </tr>\n",
       "    <tr>\n",
       "      <th>1</th>\n",
       "      <td>1</td>\n",
       "      <td>Chinstrap penguin (Pygoscelis antarctica)</td>\n",
       "      <td>Dream</td>\n",
       "      <td>No</td>\n",
       "      <td>49.5</td>\n",
       "      <td>19.0</td>\n",
       "      <td>200</td>\n",
       "      <td>MALE</td>\n",
       "      <td>9.63074</td>\n",
       "      <td>-24.34684</td>\n",
       "      <td>3800</td>\n",
       "    </tr>\n",
       "    <tr>\n",
       "      <th>2</th>\n",
       "      <td>2</td>\n",
       "      <td>Gentoo penguin (Pygoscelis papua)</td>\n",
       "      <td>Biscoe</td>\n",
       "      <td>Yes</td>\n",
       "      <td>45.1</td>\n",
       "      <td>14.4</td>\n",
       "      <td>210</td>\n",
       "      <td>FEMALE</td>\n",
       "      <td>8.51951</td>\n",
       "      <td>-27.01854</td>\n",
       "      <td>4400</td>\n",
       "    </tr>\n",
       "  </tbody>\n",
       "</table>\n",
       "</div>"
      ],
      "text/plain": [
       "   id                                    Species  Island Clutch Completion  \\\n",
       "0   0          Gentoo penguin (Pygoscelis papua)  Biscoe               Yes   \n",
       "1   1  Chinstrap penguin (Pygoscelis antarctica)   Dream                No   \n",
       "2   2          Gentoo penguin (Pygoscelis papua)  Biscoe               Yes   \n",
       "\n",
       "   Culmen Length (mm)  Culmen Depth (mm)  Flipper Length (mm)     Sex  \\\n",
       "0                50.0               15.3                  220    MALE   \n",
       "1                49.5               19.0                  200    MALE   \n",
       "2                45.1               14.4                  210  FEMALE   \n",
       "\n",
       "   Delta 15 N (o/oo)  Delta 13 C (o/oo)  Body Mass (g)  \n",
       "0            8.30515          -25.19017           5550  \n",
       "1            9.63074          -24.34684           3800  \n",
       "2            8.51951          -27.01854           4400  "
      ]
     },
     "execution_count": 4,
     "metadata": {},
     "output_type": "execute_result"
    }
   ],
   "source": [
    "import pandas as pd\n",
    "\n",
    "train = pd.read_csv('train.csv')\n",
    "\n",
    "train.head(3)"
   ]
  },
  {
   "cell_type": "markdown",
   "id": "02ed4224-ff80-4eac-a45e-28457cf8926b",
   "metadata": {},
   "source": [
    "---"
   ]
  },
  {
   "cell_type": "markdown",
   "id": "f7b3d083-34cd-4942-a4db-52b0750d0bae",
   "metadata": {},
   "source": [
    "### 2. 결측치 확인"
   ]
  },
  {
   "cell_type": "code",
   "execution_count": 6,
   "id": "3af30663-38e3-4cb3-ae57-12c765bab6e2",
   "metadata": {},
   "outputs": [
    {
     "name": "stdout",
     "output_type": "stream",
     "text": [
      "결측치가 있는 컬럼은: Sex입니다.\n",
      "해당 컬럼에 총 3개의 결측치가 존재합니다.\n",
      "결측치가 있는 컬럼은: Delta 15 N (o/oo)입니다.\n",
      "해당 컬럼에 총 3개의 결측치가 존재합니다.\n",
      "결측치가 있는 컬럼은: Delta 13 C (o/oo)입니다.\n",
      "해당 컬럼에 총 3개의 결측치가 존재합니다.\n"
     ]
    }
   ],
   "source": [
    "def check_missing_col(dataframe):\n",
    "    missing_col = []\n",
    "    counted_missing_col = 0\n",
    "    for i, col in enumerate(dataframe.columns):\n",
    "        missing_values = sum(dataframe[col].isna())\n",
    "        is_missing = True if missing_values >= 1 else False\n",
    "        if is_missing:\n",
    "            counted_missing_col += 1\n",
    "            print(f'결측치가 있는 컬럼은: {col}입니다.')\n",
    "            print(f'해당 컬럼에 총 {missing_values}개의 결측치가 존재합니다.')\n",
    "            missing_col.append([col, dataframe[col].dtype])\n",
    "    if counted_missing_col == 0:\n",
    "        print('결측치가 존재하지 않습니다')\n",
    "    return missing_col\n",
    "\n",
    "missing_col = check_missing_col(train)"
   ]
  },
  {
   "cell_type": "markdown",
   "id": "df35bfb9-8656-4ade-981b-f9b2a0cd98b7",
   "metadata": {},
   "source": [
    "---"
   ]
  },
  {
   "cell_type": "markdown",
   "id": "8074b082-d6db-437e-9026-f394658ea9bb",
   "metadata": {},
   "source": [
    "### 3. 결측치 처리"
   ]
  },
  {
   "cell_type": "code",
   "execution_count": 8,
   "id": "75337be1-b274-4fae-bedb-25f320a0a6a6",
   "metadata": {},
   "outputs": [
    {
     "data": {
      "text/html": [
       "<div>\n",
       "<style scoped>\n",
       "    .dataframe tbody tr th:only-of-type {\n",
       "        vertical-align: middle;\n",
       "    }\n",
       "\n",
       "    .dataframe tbody tr th {\n",
       "        vertical-align: top;\n",
       "    }\n",
       "\n",
       "    .dataframe thead th {\n",
       "        text-align: right;\n",
       "    }\n",
       "</style>\n",
       "<table border=\"1\" class=\"dataframe\">\n",
       "  <thead>\n",
       "    <tr style=\"text-align: right;\">\n",
       "      <th></th>\n",
       "      <th>id</th>\n",
       "      <th>Species</th>\n",
       "      <th>Island</th>\n",
       "      <th>Clutch Completion</th>\n",
       "      <th>Culmen Length (mm)</th>\n",
       "      <th>Culmen Depth (mm)</th>\n",
       "      <th>Flipper Length (mm)</th>\n",
       "      <th>Sex</th>\n",
       "      <th>Delta 15 N (o/oo)</th>\n",
       "      <th>Delta 13 C (o/oo)</th>\n",
       "      <th>Body Mass (g)</th>\n",
       "    </tr>\n",
       "  </thead>\n",
       "  <tbody>\n",
       "    <tr>\n",
       "      <th>6</th>\n",
       "      <td>6</td>\n",
       "      <td>Adelie Penguin (Pygoscelis adeliae)</td>\n",
       "      <td>Torgersen</td>\n",
       "      <td>Yes</td>\n",
       "      <td>42.0</td>\n",
       "      <td>20.2</td>\n",
       "      <td>190</td>\n",
       "      <td>NaN</td>\n",
       "      <td>9.13362</td>\n",
       "      <td>-25.09368</td>\n",
       "      <td>4250</td>\n",
       "    </tr>\n",
       "    <tr>\n",
       "      <th>8</th>\n",
       "      <td>8</td>\n",
       "      <td>Adelie Penguin (Pygoscelis adeliae)</td>\n",
       "      <td>Torgersen</td>\n",
       "      <td>Yes</td>\n",
       "      <td>34.1</td>\n",
       "      <td>18.1</td>\n",
       "      <td>193</td>\n",
       "      <td>NaN</td>\n",
       "      <td>NaN</td>\n",
       "      <td>NaN</td>\n",
       "      <td>3475</td>\n",
       "    </tr>\n",
       "    <tr>\n",
       "      <th>18</th>\n",
       "      <td>18</td>\n",
       "      <td>Adelie Penguin (Pygoscelis adeliae)</td>\n",
       "      <td>Dream</td>\n",
       "      <td>No</td>\n",
       "      <td>39.8</td>\n",
       "      <td>19.1</td>\n",
       "      <td>184</td>\n",
       "      <td>MALE</td>\n",
       "      <td>NaN</td>\n",
       "      <td>NaN</td>\n",
       "      <td>4650</td>\n",
       "    </tr>\n",
       "    <tr>\n",
       "      <th>70</th>\n",
       "      <td>70</td>\n",
       "      <td>Gentoo penguin (Pygoscelis papua)</td>\n",
       "      <td>Biscoe</td>\n",
       "      <td>Yes</td>\n",
       "      <td>46.2</td>\n",
       "      <td>14.4</td>\n",
       "      <td>214</td>\n",
       "      <td>NaN</td>\n",
       "      <td>8.24253</td>\n",
       "      <td>-26.81540</td>\n",
       "      <td>4650</td>\n",
       "    </tr>\n",
       "    <tr>\n",
       "      <th>109</th>\n",
       "      <td>109</td>\n",
       "      <td>Adelie Penguin (Pygoscelis adeliae)</td>\n",
       "      <td>Torgersen</td>\n",
       "      <td>Yes</td>\n",
       "      <td>36.6</td>\n",
       "      <td>17.8</td>\n",
       "      <td>185</td>\n",
       "      <td>FEMALE</td>\n",
       "      <td>NaN</td>\n",
       "      <td>NaN</td>\n",
       "      <td>3700</td>\n",
       "    </tr>\n",
       "  </tbody>\n",
       "</table>\n",
       "</div>"
      ],
      "text/plain": [
       "      id                              Species     Island Clutch Completion  \\\n",
       "6      6  Adelie Penguin (Pygoscelis adeliae)  Torgersen               Yes   \n",
       "8      8  Adelie Penguin (Pygoscelis adeliae)  Torgersen               Yes   \n",
       "18    18  Adelie Penguin (Pygoscelis adeliae)      Dream                No   \n",
       "70    70    Gentoo penguin (Pygoscelis papua)     Biscoe               Yes   \n",
       "109  109  Adelie Penguin (Pygoscelis adeliae)  Torgersen               Yes   \n",
       "\n",
       "     Culmen Length (mm)  Culmen Depth (mm)  Flipper Length (mm)     Sex  \\\n",
       "6                  42.0               20.2                  190     NaN   \n",
       "8                  34.1               18.1                  193     NaN   \n",
       "18                 39.8               19.1                  184    MALE   \n",
       "70                 46.2               14.4                  214     NaN   \n",
       "109                36.6               17.8                  185  FEMALE   \n",
       "\n",
       "     Delta 15 N (o/oo)  Delta 13 C (o/oo)  Body Mass (g)  \n",
       "6              9.13362          -25.09368           4250  \n",
       "8                  NaN                NaN           3475  \n",
       "18                 NaN                NaN           4650  \n",
       "70             8.24253          -26.81540           4650  \n",
       "109                NaN                NaN           3700  "
      ]
     },
     "execution_count": 8,
     "metadata": {},
     "output_type": "execute_result"
    }
   ],
   "source": [
    "train[train.isna().sum(axis=1) > 0]"
   ]
  },
  {
   "cell_type": "code",
   "execution_count": 13,
   "id": "d564829e-5baf-476d-862b-23ddabe546f5",
   "metadata": {},
   "outputs": [
    {
     "name": "stdout",
     "output_type": "stream",
     "text": [
      "결측치가 있는 컬럼은: Sex입니다.\n",
      "해당 컬럼에 총 3개의 결측치가 존재합니다.\n",
      "결측치가 있는 컬럼은: Delta 15 N (o/oo)입니다.\n",
      "해당 컬럼에 총 3개의 결측치가 존재합니다.\n",
      "결측치가 있는 컬럼은: Delta 13 C (o/oo)입니다.\n",
      "해당 컬럼에 총 3개의 결측치가 존재합니다.\n"
     ]
    }
   ],
   "source": [
    "# 결측치를 처리하는 함수_이해 x\n",
    "def handle_na(data, missing_col):\n",
    "    temp = data.copy()\n",
    "    for col, dtype in missing_col:\n",
    "        if dtype == 'O':\n",
    "            temp = temp.dropna(subset = [col])\n",
    "        elif dtype == int or dtype == float:\n",
    "            temp.loc[:,col] = temp[col].fillna(temp[col].mean())\n",
    "    return temp\n",
    "\n",
    "data = handle_na(train, missing_col)\n",
    "\n",
    "# 결측치 처리 확인\n",
    "missing_col = check_missing_col(train)"
   ]
  },
  {
   "cell_type": "code",
   "execution_count": null,
   "id": "4bcd8711-e548-462b-9fc9-dadd805494b5",
   "metadata": {},
   "outputs": [],
   "source": []
  },
  {
   "cell_type": "markdown",
   "id": "dcc88859-f819-4b3f-86b4-26559726c6f6",
   "metadata": {},
   "source": [
    "---"
   ]
  },
  {
   "cell_type": "markdown",
   "id": "c7fb1c06-9a61-4991-977c-855ec347fa0e",
   "metadata": {},
   "source": [
    "### 4. 데이터 설명 방정식 만들기 (Y = aX + b)"
   ]
  },
  {
   "cell_type": "markdown",
   "id": "878d6954-cc6f-41e3-8b3d-89e3cd599373",
   "metadata": {},
   "source": [
    "* train.csv를 이용해서 데이터 사이의 관계를 파악\n",
    "* 펭귄의 날개 길이(X)를 이용해서 펭귄의 몸무게(Y) 예측  \n",
    "cf. corr을 통해 상관관계를 확인해보면 변수 요인파악이 가능"
   ]
  },
  {
   "cell_type": "code",
   "execution_count": 26,
   "id": "6ed5967e-99d4-4faa-b788-188ab0d7ac98",
   "metadata": {},
   "outputs": [
    {
     "data": {
      "text/html": [
       "<div>\n",
       "<style scoped>\n",
       "    .dataframe tbody tr th:only-of-type {\n",
       "        vertical-align: middle;\n",
       "    }\n",
       "\n",
       "    .dataframe tbody tr th {\n",
       "        vertical-align: top;\n",
       "    }\n",
       "\n",
       "    .dataframe thead th {\n",
       "        text-align: right;\n",
       "    }\n",
       "</style>\n",
       "<table border=\"1\" class=\"dataframe\">\n",
       "  <thead>\n",
       "    <tr style=\"text-align: right;\">\n",
       "      <th></th>\n",
       "      <th>id</th>\n",
       "      <th>Culmen Length (mm)</th>\n",
       "      <th>Culmen Depth (mm)</th>\n",
       "      <th>Flipper Length (mm)</th>\n",
       "      <th>Delta 15 N (o/oo)</th>\n",
       "      <th>Delta 13 C (o/oo)</th>\n",
       "      <th>Body Mass (g)</th>\n",
       "    </tr>\n",
       "  </thead>\n",
       "  <tbody>\n",
       "    <tr>\n",
       "      <th>id</th>\n",
       "      <td>1.000000</td>\n",
       "      <td>0.078787</td>\n",
       "      <td>-0.144788</td>\n",
       "      <td>0.077909</td>\n",
       "      <td>-0.035484</td>\n",
       "      <td>0.024416</td>\n",
       "      <td>0.089186</td>\n",
       "    </tr>\n",
       "    <tr>\n",
       "      <th>Culmen Length (mm)</th>\n",
       "      <td>0.078787</td>\n",
       "      <td>1.000000</td>\n",
       "      <td>-0.251255</td>\n",
       "      <td>0.672205</td>\n",
       "      <td>-0.040205</td>\n",
       "      <td>0.114983</td>\n",
       "      <td>0.572063</td>\n",
       "    </tr>\n",
       "    <tr>\n",
       "      <th>Culmen Depth (mm)</th>\n",
       "      <td>-0.144788</td>\n",
       "      <td>-0.251255</td>\n",
       "      <td>1.000000</td>\n",
       "      <td>-0.603341</td>\n",
       "      <td>0.650629</td>\n",
       "      <td>0.477688</td>\n",
       "      <td>-0.490643</td>\n",
       "    </tr>\n",
       "    <tr>\n",
       "      <th>Flipper Length (mm)</th>\n",
       "      <td>0.077909</td>\n",
       "      <td>0.672205</td>\n",
       "      <td>-0.603341</td>\n",
       "      <td>1.000000</td>\n",
       "      <td>-0.533212</td>\n",
       "      <td>-0.454315</td>\n",
       "      <td>0.864814</td>\n",
       "    </tr>\n",
       "    <tr>\n",
       "      <th>Delta 15 N (o/oo)</th>\n",
       "      <td>-0.035484</td>\n",
       "      <td>-0.040205</td>\n",
       "      <td>0.650629</td>\n",
       "      <td>-0.533212</td>\n",
       "      <td>1.000000</td>\n",
       "      <td>0.641107</td>\n",
       "      <td>-0.548678</td>\n",
       "    </tr>\n",
       "    <tr>\n",
       "      <th>Delta 13 C (o/oo)</th>\n",
       "      <td>0.024416</td>\n",
       "      <td>0.114983</td>\n",
       "      <td>0.477688</td>\n",
       "      <td>-0.454315</td>\n",
       "      <td>0.641107</td>\n",
       "      <td>1.000000</td>\n",
       "      <td>-0.468425</td>\n",
       "    </tr>\n",
       "    <tr>\n",
       "      <th>Body Mass (g)</th>\n",
       "      <td>0.089186</td>\n",
       "      <td>0.572063</td>\n",
       "      <td>-0.490643</td>\n",
       "      <td>0.864814</td>\n",
       "      <td>-0.548678</td>\n",
       "      <td>-0.468425</td>\n",
       "      <td>1.000000</td>\n",
       "    </tr>\n",
       "  </tbody>\n",
       "</table>\n",
       "</div>"
      ],
      "text/plain": [
       "                           id  Culmen Length (mm)  Culmen Depth (mm)  \\\n",
       "id                   1.000000            0.078787          -0.144788   \n",
       "Culmen Length (mm)   0.078787            1.000000          -0.251255   \n",
       "Culmen Depth (mm)   -0.144788           -0.251255           1.000000   \n",
       "Flipper Length (mm)  0.077909            0.672205          -0.603341   \n",
       "Delta 15 N (o/oo)   -0.035484           -0.040205           0.650629   \n",
       "Delta 13 C (o/oo)    0.024416            0.114983           0.477688   \n",
       "Body Mass (g)        0.089186            0.572063          -0.490643   \n",
       "\n",
       "                     Flipper Length (mm)  Delta 15 N (o/oo)  \\\n",
       "id                              0.077909          -0.035484   \n",
       "Culmen Length (mm)              0.672205          -0.040205   \n",
       "Culmen Depth (mm)              -0.603341           0.650629   \n",
       "Flipper Length (mm)             1.000000          -0.533212   \n",
       "Delta 15 N (o/oo)              -0.533212           1.000000   \n",
       "Delta 13 C (o/oo)              -0.454315           0.641107   \n",
       "Body Mass (g)                   0.864814          -0.548678   \n",
       "\n",
       "                     Delta 13 C (o/oo)  Body Mass (g)  \n",
       "id                            0.024416       0.089186  \n",
       "Culmen Length (mm)            0.114983       0.572063  \n",
       "Culmen Depth (mm)             0.477688      -0.490643  \n",
       "Flipper Length (mm)          -0.454315       0.864814  \n",
       "Delta 15 N (o/oo)             0.641107      -0.548678  \n",
       "Delta 13 C (o/oo)             1.000000      -0.468425  \n",
       "Body Mass (g)                -0.468425       1.000000  "
      ]
     },
     "execution_count": 26,
     "metadata": {},
     "output_type": "execute_result"
    }
   ],
   "source": [
    "train.corr()\n",
    "# 몸무게(Y)에 영향을 미치는 가장 큰 요인으로 날개 길이(X)를 꼽을 수 있다"
   ]
  },
  {
   "cell_type": "code",
   "execution_count": 19,
   "id": "d86c022a-3e74-4f97-9bad-7c1b15f12139",
   "metadata": {},
   "outputs": [],
   "source": [
    "X = train['Flipper Length (mm)']\n",
    "Y = train['Body Mass (g)']"
   ]
  },
  {
   "cell_type": "markdown",
   "id": "c3bf477a-47cb-4074-bacb-fac5ade2af2b",
   "metadata": {},
   "source": [
    "---"
   ]
  },
  {
   "cell_type": "markdown",
   "id": "c897bd9e-92c9-4147-88d6-2cb7d9e7ff69",
   "metadata": {},
   "source": [
    "### 5. a 구하기"
   ]
  },
  {
   "cell_type": "code",
   "execution_count": 29,
   "id": "79f723c9-024d-48d5-93c6-a799c7e44bfd",
   "metadata": {},
   "outputs": [
    {
     "name": "stdout",
     "output_type": "stream",
     "text": [
      "21.31393640919302\n"
     ]
    }
   ],
   "source": [
    "import numpy as np\n",
    "\n",
    "# X와 Y의 평균을 구함\n",
    "mean_X = np.mean(X)\n",
    "mean_Y = np.mean(Y)\n",
    "\n",
    "# mean_Y를 mean_X로 나누어서 두 변수간 관계를 확인\n",
    "print(mean_Y/mean_X)\n",
    "\n",
    "# 몸무게는 날개 길이의 21.31배 정도 임을 파악할 수 있다\n",
    "# Y = 21.31 X + b 식을 세울 수 있다"
   ]
  },
  {
   "cell_type": "markdown",
   "id": "244d5f59-cc89-4aec-838b-11da5c1f4460",
   "metadata": {},
   "source": [
    "---"
   ]
  },
  {
   "cell_type": "markdown",
   "id": "f898ee40-3955-43c2-9025-9f022e442261",
   "metadata": {},
   "source": [
    "### 6. b 구하기"
   ]
  },
  {
   "cell_type": "code",
   "execution_count": 31,
   "id": "a6e42bc5-3d21-4229-b715-57cdef356a74",
   "metadata": {},
   "outputs": [
    {
     "data": {
      "text/plain": [
       "0.7992982456144091"
      ]
     },
     "execution_count": 31,
     "metadata": {},
     "output_type": "execute_result"
    }
   ],
   "source": [
    "# b = Y - 21.31 X 식을 그대로 사용, 평균값을 그대로 사용한다\n",
    "b = mean_Y - 21.31 * mean_X\n",
    "b\n",
    "\n",
    "# b는 0.8 이다"
   ]
  },
  {
   "cell_type": "markdown",
   "id": "dc4b8408-9b5f-4fa6-946f-6fee2db50bbc",
   "metadata": {},
   "source": [
    "---"
   ]
  },
  {
   "cell_type": "markdown",
   "id": "bb73dfdf-2407-4609-9f72-3fc817f641bc",
   "metadata": {},
   "source": [
    "### 7. 방정식 Y = 21.31 X + 0.8 이용해서 몸무게 예측"
   ]
  },
  {
   "cell_type": "code",
   "execution_count": 35,
   "id": "be6cb536-9716-4636-81c9-8dee7e855661",
   "metadata": {},
   "outputs": [
    {
     "data": {
      "text/plain": [
       "0      4689.00\n",
       "1      4262.80\n",
       "2      4475.90\n",
       "3      4561.14\n",
       "4      4795.55\n",
       "        ...   \n",
       "109    3943.15\n",
       "110    4049.70\n",
       "111    4092.32\n",
       "112    4092.32\n",
       "113    4859.48\n",
       "Name: Flipper Length (mm), Length: 114, dtype: float64"
      ]
     },
     "execution_count": 35,
     "metadata": {},
     "output_type": "execute_result"
    }
   ],
   "source": [
    "predict_Y = 21.31 * X + 0.8\n",
    "predict_Y"
   ]
  },
  {
   "cell_type": "markdown",
   "id": "9715c79b-cf0e-402b-86e0-41b21da43874",
   "metadata": {},
   "source": [
    "---"
   ]
  },
  {
   "cell_type": "markdown",
   "id": "fce2ebe8-e2e3-415a-9dc6-8137ce75e71f",
   "metadata": {},
   "source": [
    "### 8. 예측 결과 평가하기\n",
    "더 정확한 예측을 위해 개선점 확인\n",
    "* 대회의 평가지표는 RMSE(Root Mean of Squared Error)\n",
    "* 예측 값과 실제 값 사이, 차이값들의 제곱값들의 평균 (양수, 음수 고려)"
   ]
  },
  {
   "cell_type": "code",
   "execution_count": 39,
   "id": "fccf799d-cc4e-4441-b0d5-65fba4f26e59",
   "metadata": {},
   "outputs": [
    {
     "name": "stdout",
     "output_type": "stream",
     "text": [
      "532.843391763109\n"
     ]
    }
   ],
   "source": [
    "# 대회 규칙의 평가 산식 함수를 그대로 사용 (cf. 대회 규칙 - 평가 )\n",
    "import numpy as np\n",
    "\n",
    "def RMSE(true, pred):\n",
    "    score = np.sqrt(np.mean(np.square(true-predict_Y)))\n",
    "    return score\n",
    "\n",
    "# 실제 정답 값 준비\n",
    "real_answer = Y.copy() \n",
    "\n",
    "# 정답값과 예측값의 함수를 넣어 결과 확인\n",
    "error = RMSE(real_answer, predict_Y)\n",
    "\n",
    "print(error)\n",
    "\n",
    "# 평균 에러는 532.84"
   ]
  },
  {
   "cell_type": "markdown",
   "id": "cead2e32-5631-4406-9781-c352d19e2314",
   "metadata": {},
   "source": [
    "---"
   ]
  },
  {
   "cell_type": "markdown",
   "id": "f773f3af-1fa3-4f10-8322-79bc893c0ee1",
   "metadata": {},
   "source": [
    "### 9. test_data 예측하기"
   ]
  },
  {
   "cell_type": "code",
   "execution_count": 40,
   "id": "79a1cb8d-a584-4f05-854a-9ae105162d88",
   "metadata": {},
   "outputs": [
    {
     "data": {
      "text/html": [
       "<div>\n",
       "<style scoped>\n",
       "    .dataframe tbody tr th:only-of-type {\n",
       "        vertical-align: middle;\n",
       "    }\n",
       "\n",
       "    .dataframe tbody tr th {\n",
       "        vertical-align: top;\n",
       "    }\n",
       "\n",
       "    .dataframe thead th {\n",
       "        text-align: right;\n",
       "    }\n",
       "</style>\n",
       "<table border=\"1\" class=\"dataframe\">\n",
       "  <thead>\n",
       "    <tr style=\"text-align: right;\">\n",
       "      <th></th>\n",
       "      <th>id</th>\n",
       "      <th>Species</th>\n",
       "      <th>Island</th>\n",
       "      <th>Clutch Completion</th>\n",
       "      <th>Culmen Length (mm)</th>\n",
       "      <th>Culmen Depth (mm)</th>\n",
       "      <th>Flipper Length (mm)</th>\n",
       "      <th>Sex</th>\n",
       "      <th>Delta 15 N (o/oo)</th>\n",
       "      <th>Delta 13 C (o/oo)</th>\n",
       "    </tr>\n",
       "  </thead>\n",
       "  <tbody>\n",
       "    <tr>\n",
       "      <th>0</th>\n",
       "      <td>0</td>\n",
       "      <td>Chinstrap penguin (Pygoscelis antarctica)</td>\n",
       "      <td>Dream</td>\n",
       "      <td>Yes</td>\n",
       "      <td>52.0</td>\n",
       "      <td>20.7</td>\n",
       "      <td>210.0</td>\n",
       "      <td>MALE</td>\n",
       "      <td>9.43146</td>\n",
       "      <td>-24.68440</td>\n",
       "    </tr>\n",
       "    <tr>\n",
       "      <th>1</th>\n",
       "      <td>1</td>\n",
       "      <td>Gentoo penguin (Pygoscelis papua)</td>\n",
       "      <td>Biscoe</td>\n",
       "      <td>Yes</td>\n",
       "      <td>55.9</td>\n",
       "      <td>17.0</td>\n",
       "      <td>228.0</td>\n",
       "      <td>MALE</td>\n",
       "      <td>8.31180</td>\n",
       "      <td>-26.35425</td>\n",
       "    </tr>\n",
       "    <tr>\n",
       "      <th>2</th>\n",
       "      <td>2</td>\n",
       "      <td>Adelie Penguin (Pygoscelis adeliae)</td>\n",
       "      <td>Dream</td>\n",
       "      <td>Yes</td>\n",
       "      <td>38.9</td>\n",
       "      <td>18.8</td>\n",
       "      <td>190.0</td>\n",
       "      <td>FEMALE</td>\n",
       "      <td>8.36936</td>\n",
       "      <td>-26.11199</td>\n",
       "    </tr>\n",
       "    <tr>\n",
       "      <th>3</th>\n",
       "      <td>3</td>\n",
       "      <td>Chinstrap penguin (Pygoscelis antarctica)</td>\n",
       "      <td>Dream</td>\n",
       "      <td>Yes</td>\n",
       "      <td>45.2</td>\n",
       "      <td>16.6</td>\n",
       "      <td>191.0</td>\n",
       "      <td>FEMALE</td>\n",
       "      <td>9.62357</td>\n",
       "      <td>-24.78984</td>\n",
       "    </tr>\n",
       "    <tr>\n",
       "      <th>4</th>\n",
       "      <td>4</td>\n",
       "      <td>Adelie Penguin (Pygoscelis adeliae)</td>\n",
       "      <td>Biscoe</td>\n",
       "      <td>No</td>\n",
       "      <td>37.9</td>\n",
       "      <td>18.6</td>\n",
       "      <td>172.0</td>\n",
       "      <td>FEMALE</td>\n",
       "      <td>8.38404</td>\n",
       "      <td>-25.19837</td>\n",
       "    </tr>\n",
       "  </tbody>\n",
       "</table>\n",
       "</div>"
      ],
      "text/plain": [
       "   id                                    Species  Island Clutch Completion  \\\n",
       "0   0  Chinstrap penguin (Pygoscelis antarctica)   Dream               Yes   \n",
       "1   1          Gentoo penguin (Pygoscelis papua)  Biscoe               Yes   \n",
       "2   2        Adelie Penguin (Pygoscelis adeliae)   Dream               Yes   \n",
       "3   3  Chinstrap penguin (Pygoscelis antarctica)   Dream               Yes   \n",
       "4   4        Adelie Penguin (Pygoscelis adeliae)  Biscoe                No   \n",
       "\n",
       "   Culmen Length (mm)  Culmen Depth (mm)  Flipper Length (mm)     Sex  \\\n",
       "0                52.0               20.7                210.0    MALE   \n",
       "1                55.9               17.0                228.0    MALE   \n",
       "2                38.9               18.8                190.0  FEMALE   \n",
       "3                45.2               16.6                191.0  FEMALE   \n",
       "4                37.9               18.6                172.0  FEMALE   \n",
       "\n",
       "   Delta 15 N (o/oo)  Delta 13 C (o/oo)  \n",
       "0            9.43146          -24.68440  \n",
       "1            8.31180          -26.35425  \n",
       "2            8.36936          -26.11199  \n",
       "3            9.62357          -24.78984  \n",
       "4            8.38404          -25.19837  "
      ]
     },
     "execution_count": 40,
     "metadata": {},
     "output_type": "execute_result"
    }
   ],
   "source": [
    "# 예측하고자 하는 test_data 불러오기\n",
    "test = pd.read_csv('test.csv')\n",
    "test.head()\n",
    "\n",
    "# Body Mass(g)가 존재하지 않는 것을 확인할 수 있다\n",
    "# 방정식을 이용해서 test 데이터에 Body Mass(g)를 채워볼 것이다"
   ]
  },
  {
   "cell_type": "code",
   "execution_count": 41,
   "id": "c2a5368c-2068-47e1-a9fa-cfc0d4c2ba41",
   "metadata": {},
   "outputs": [
    {
     "data": {
      "text/plain": [
       "0      4475.90\n",
       "1      4859.48\n",
       "2      4049.70\n",
       "3      4071.01\n",
       "4      3666.12\n",
       "        ...   \n",
       "223    4326.73\n",
       "224    4625.07\n",
       "225    4475.90\n",
       "226    4284.11\n",
       "227    4134.94\n",
       "Name: Flipper Length (mm), Length: 228, dtype: float64"
      ]
     },
     "execution_count": 41,
     "metadata": {},
     "output_type": "execute_result"
    }
   ],
   "source": [
    "# 예측의 재료 가져오기\n",
    "test_X = test['Flipper Length (mm)']\n",
    "\n",
    "# 예측 진행\n",
    "predict_test = 21.31 * test_X + 0.8\n",
    "\n",
    "# 예측 결과 확인\n",
    "predict_test"
   ]
  },
  {
   "cell_type": "markdown",
   "id": "d41b752d-4882-49d1-9ef8-c834974db979",
   "metadata": {},
   "source": [
    "---"
   ]
  },
  {
   "cell_type": "markdown",
   "id": "f70f3ef5-7b2b-4bbf-a1ab-3edd5977a565",
   "metadata": {},
   "source": [
    "### 10. 대회 제출을 위한 파일 저장"
   ]
  },
  {
   "cell_type": "code",
   "execution_count": 45,
   "id": "2f6e5751-b42c-4c39-ae7d-3767ca053319",
   "metadata": {},
   "outputs": [
    {
     "data": {
      "text/html": [
       "<div>\n",
       "<style scoped>\n",
       "    .dataframe tbody tr th:only-of-type {\n",
       "        vertical-align: middle;\n",
       "    }\n",
       "\n",
       "    .dataframe tbody tr th {\n",
       "        vertical-align: top;\n",
       "    }\n",
       "\n",
       "    .dataframe thead th {\n",
       "        text-align: right;\n",
       "    }\n",
       "</style>\n",
       "<table border=\"1\" class=\"dataframe\">\n",
       "  <thead>\n",
       "    <tr style=\"text-align: right;\">\n",
       "      <th></th>\n",
       "      <th>id</th>\n",
       "      <th>Body Mass (g)</th>\n",
       "    </tr>\n",
       "  </thead>\n",
       "  <tbody>\n",
       "    <tr>\n",
       "      <th>0</th>\n",
       "      <td>0</td>\n",
       "      <td>0</td>\n",
       "    </tr>\n",
       "    <tr>\n",
       "      <th>1</th>\n",
       "      <td>1</td>\n",
       "      <td>0</td>\n",
       "    </tr>\n",
       "    <tr>\n",
       "      <th>2</th>\n",
       "      <td>2</td>\n",
       "      <td>0</td>\n",
       "    </tr>\n",
       "    <tr>\n",
       "      <th>3</th>\n",
       "      <td>3</td>\n",
       "      <td>0</td>\n",
       "    </tr>\n",
       "    <tr>\n",
       "      <th>4</th>\n",
       "      <td>4</td>\n",
       "      <td>0</td>\n",
       "    </tr>\n",
       "  </tbody>\n",
       "</table>\n",
       "</div>"
      ],
      "text/plain": [
       "   id  Body Mass (g)\n",
       "0   0              0\n",
       "1   1              0\n",
       "2   2              0\n",
       "3   3              0\n",
       "4   4              0"
      ]
     },
     "execution_count": 45,
     "metadata": {},
     "output_type": "execute_result"
    }
   ],
   "source": [
    "submission = pd.read_csv('sample_submission.csv')\n",
    "submission.head()"
   ]
  },
  {
   "cell_type": "code",
   "execution_count": 46,
   "id": "a366795d-bb39-4316-8c9b-37b484696bb8",
   "metadata": {},
   "outputs": [
    {
     "data": {
      "text/html": [
       "<div>\n",
       "<style scoped>\n",
       "    .dataframe tbody tr th:only-of-type {\n",
       "        vertical-align: middle;\n",
       "    }\n",
       "\n",
       "    .dataframe tbody tr th {\n",
       "        vertical-align: top;\n",
       "    }\n",
       "\n",
       "    .dataframe thead th {\n",
       "        text-align: right;\n",
       "    }\n",
       "</style>\n",
       "<table border=\"1\" class=\"dataframe\">\n",
       "  <thead>\n",
       "    <tr style=\"text-align: right;\">\n",
       "      <th></th>\n",
       "      <th>id</th>\n",
       "      <th>Body Mass (g)</th>\n",
       "    </tr>\n",
       "  </thead>\n",
       "  <tbody>\n",
       "    <tr>\n",
       "      <th>0</th>\n",
       "      <td>0</td>\n",
       "      <td>4475.90</td>\n",
       "    </tr>\n",
       "    <tr>\n",
       "      <th>1</th>\n",
       "      <td>1</td>\n",
       "      <td>4859.48</td>\n",
       "    </tr>\n",
       "    <tr>\n",
       "      <th>2</th>\n",
       "      <td>2</td>\n",
       "      <td>4049.70</td>\n",
       "    </tr>\n",
       "    <tr>\n",
       "      <th>3</th>\n",
       "      <td>3</td>\n",
       "      <td>4071.01</td>\n",
       "    </tr>\n",
       "    <tr>\n",
       "      <th>4</th>\n",
       "      <td>4</td>\n",
       "      <td>3666.12</td>\n",
       "    </tr>\n",
       "    <tr>\n",
       "      <th>...</th>\n",
       "      <td>...</td>\n",
       "      <td>...</td>\n",
       "    </tr>\n",
       "    <tr>\n",
       "      <th>223</th>\n",
       "      <td>223</td>\n",
       "      <td>4326.73</td>\n",
       "    </tr>\n",
       "    <tr>\n",
       "      <th>224</th>\n",
       "      <td>224</td>\n",
       "      <td>4625.07</td>\n",
       "    </tr>\n",
       "    <tr>\n",
       "      <th>225</th>\n",
       "      <td>225</td>\n",
       "      <td>4475.90</td>\n",
       "    </tr>\n",
       "    <tr>\n",
       "      <th>226</th>\n",
       "      <td>226</td>\n",
       "      <td>4284.11</td>\n",
       "    </tr>\n",
       "    <tr>\n",
       "      <th>227</th>\n",
       "      <td>227</td>\n",
       "      <td>4134.94</td>\n",
       "    </tr>\n",
       "  </tbody>\n",
       "</table>\n",
       "<p>228 rows × 2 columns</p>\n",
       "</div>"
      ],
      "text/plain": [
       "      id  Body Mass (g)\n",
       "0      0        4475.90\n",
       "1      1        4859.48\n",
       "2      2        4049.70\n",
       "3      3        4071.01\n",
       "4      4        3666.12\n",
       "..   ...            ...\n",
       "223  223        4326.73\n",
       "224  224        4625.07\n",
       "225  225        4475.90\n",
       "226  226        4284.11\n",
       "227  227        4134.94\n",
       "\n",
       "[228 rows x 2 columns]"
      ]
     },
     "execution_count": 46,
     "metadata": {},
     "output_type": "execute_result"
    }
   ],
   "source": [
    "submission['Body Mass (g)'] = predict_test\n",
    "\n",
    "submission"
   ]
  },
  {
   "cell_type": "code",
   "execution_count": 48,
   "id": "0cc515c3-86d0-4661-9950-30ad7e3047af",
   "metadata": {},
   "outputs": [],
   "source": [
    "# submission 파일 csv로 저장\n",
    "# index=False : 추가적인 id를 부여할 필요가 없다 (정확한 채점을 위해 필요한 옵션)\n",
    "submission.to_csv('sumission.csv', index=False)"
   ]
  },
  {
   "cell_type": "code",
   "execution_count": null,
   "id": "2c583106-f54a-4f55-8b30-e9ff245d06bf",
   "metadata": {},
   "outputs": [],
   "source": []
  }
 ],
 "metadata": {
  "kernelspec": {
   "display_name": "Python 3 (ipykernel)",
   "language": "python",
   "name": "python3"
  },
  "language_info": {
   "codemirror_mode": {
    "name": "ipython",
    "version": 3
   },
   "file_extension": ".py",
   "mimetype": "text/x-python",
   "name": "python",
   "nbconvert_exporter": "python",
   "pygments_lexer": "ipython3",
   "version": "3.8.12"
  }
 },
 "nbformat": 4,
 "nbformat_minor": 5
}
