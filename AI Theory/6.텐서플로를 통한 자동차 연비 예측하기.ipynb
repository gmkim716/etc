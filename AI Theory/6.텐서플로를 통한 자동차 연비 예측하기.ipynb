{
 "cells": [
  {
   "cell_type": "code",
   "execution_count": 1,
   "id": "0f0f19b7-2d65-46b9-ace9-5f086335484c",
   "metadata": {},
   "outputs": [],
   "source": [
    "# 네이버_모두를 위한 딥러닝\n",
    "# 텐서플로를 통한 자동차 연비 예측하기 (mpg 파일)"
   ]
  },
  {
   "cell_type": "markdown",
   "id": "f266167a-49f0-4917-93b6-15f93b4d2307",
   "metadata": {
    "tags": []
   },
   "source": [
    "### 데이터셋 로드"
   ]
  },
  {
   "cell_type": "code",
   "execution_count": 2,
   "id": "bf0c7d4c-dd4d-4fc3-abaa-1bf95e4ba203",
   "metadata": {},
   "outputs": [],
   "source": [
    "import pandas as pd\n",
    "import seaborn as sns"
   ]
  },
  {
   "cell_type": "code",
   "execution_count": 3,
   "id": "072adb6f-04b9-4e84-ac02-1e2738230e52",
   "metadata": {},
   "outputs": [
    {
     "data": {
      "text/plain": [
       "(398, 9)"
      ]
     },
     "execution_count": 3,
     "metadata": {},
     "output_type": "execute_result"
    }
   ],
   "source": [
    "df = sns.load_dataset('mpg')\n",
    "df.shape"
   ]
  },
  {
   "cell_type": "code",
   "execution_count": 4,
   "id": "bf9fd5b9-cec5-49fb-97e0-44d811c5d009",
   "metadata": {},
   "outputs": [
    {
     "data": {
      "text/html": [
       "<div>\n",
       "<style scoped>\n",
       "    .dataframe tbody tr th:only-of-type {\n",
       "        vertical-align: middle;\n",
       "    }\n",
       "\n",
       "    .dataframe tbody tr th {\n",
       "        vertical-align: top;\n",
       "    }\n",
       "\n",
       "    .dataframe thead th {\n",
       "        text-align: right;\n",
       "    }\n",
       "</style>\n",
       "<table border=\"1\" class=\"dataframe\">\n",
       "  <thead>\n",
       "    <tr style=\"text-align: right;\">\n",
       "      <th></th>\n",
       "      <th>mpg</th>\n",
       "      <th>cylinders</th>\n",
       "      <th>displacement</th>\n",
       "      <th>horsepower</th>\n",
       "      <th>weight</th>\n",
       "      <th>acceleration</th>\n",
       "      <th>model_year</th>\n",
       "      <th>origin</th>\n",
       "      <th>name</th>\n",
       "    </tr>\n",
       "  </thead>\n",
       "  <tbody>\n",
       "    <tr>\n",
       "      <th>0</th>\n",
       "      <td>18.0</td>\n",
       "      <td>8</td>\n",
       "      <td>307.0</td>\n",
       "      <td>130.0</td>\n",
       "      <td>3504</td>\n",
       "      <td>12.0</td>\n",
       "      <td>70</td>\n",
       "      <td>usa</td>\n",
       "      <td>chevrolet chevelle malibu</td>\n",
       "    </tr>\n",
       "    <tr>\n",
       "      <th>1</th>\n",
       "      <td>15.0</td>\n",
       "      <td>8</td>\n",
       "      <td>350.0</td>\n",
       "      <td>165.0</td>\n",
       "      <td>3693</td>\n",
       "      <td>11.5</td>\n",
       "      <td>70</td>\n",
       "      <td>usa</td>\n",
       "      <td>buick skylark 320</td>\n",
       "    </tr>\n",
       "    <tr>\n",
       "      <th>2</th>\n",
       "      <td>18.0</td>\n",
       "      <td>8</td>\n",
       "      <td>318.0</td>\n",
       "      <td>150.0</td>\n",
       "      <td>3436</td>\n",
       "      <td>11.0</td>\n",
       "      <td>70</td>\n",
       "      <td>usa</td>\n",
       "      <td>plymouth satellite</td>\n",
       "    </tr>\n",
       "    <tr>\n",
       "      <th>3</th>\n",
       "      <td>16.0</td>\n",
       "      <td>8</td>\n",
       "      <td>304.0</td>\n",
       "      <td>150.0</td>\n",
       "      <td>3433</td>\n",
       "      <td>12.0</td>\n",
       "      <td>70</td>\n",
       "      <td>usa</td>\n",
       "      <td>amc rebel sst</td>\n",
       "    </tr>\n",
       "    <tr>\n",
       "      <th>4</th>\n",
       "      <td>17.0</td>\n",
       "      <td>8</td>\n",
       "      <td>302.0</td>\n",
       "      <td>140.0</td>\n",
       "      <td>3449</td>\n",
       "      <td>10.5</td>\n",
       "      <td>70</td>\n",
       "      <td>usa</td>\n",
       "      <td>ford torino</td>\n",
       "    </tr>\n",
       "  </tbody>\n",
       "</table>\n",
       "</div>"
      ],
      "text/plain": [
       "    mpg  cylinders  displacement  horsepower  weight  acceleration  \\\n",
       "0  18.0          8         307.0       130.0    3504          12.0   \n",
       "1  15.0          8         350.0       165.0    3693          11.5   \n",
       "2  18.0          8         318.0       150.0    3436          11.0   \n",
       "3  16.0          8         304.0       150.0    3433          12.0   \n",
       "4  17.0          8         302.0       140.0    3449          10.5   \n",
       "\n",
       "   model_year origin                       name  \n",
       "0          70    usa  chevrolet chevelle malibu  \n",
       "1          70    usa          buick skylark 320  \n",
       "2          70    usa         plymouth satellite  \n",
       "3          70    usa              amc rebel sst  \n",
       "4          70    usa                ford torino  "
      ]
     },
     "execution_count": 4,
     "metadata": {},
     "output_type": "execute_result"
    }
   ],
   "source": [
    "df.head()"
   ]
  },
  {
   "cell_type": "markdown",
   "id": "2e868b36-19c3-46fc-ae48-81a164947579",
   "metadata": {},
   "source": [
    "### 결측치 확인"
   ]
  },
  {
   "cell_type": "code",
   "execution_count": 5,
   "id": "533367e2-4105-43e4-83d8-302c661d8f1e",
   "metadata": {},
   "outputs": [
    {
     "data": {
      "text/plain": [
       "mpg             0\n",
       "cylinders       0\n",
       "displacement    0\n",
       "horsepower      6\n",
       "weight          0\n",
       "acceleration    0\n",
       "model_year      0\n",
       "origin          0\n",
       "name            0\n",
       "dtype: int64"
      ]
     },
     "execution_count": 5,
     "metadata": {},
     "output_type": "execute_result"
    }
   ],
   "source": [
    "df.isna()  # 결측치 확인\n",
    "df.isna().sum()  # 결측치 개수 확인\n",
    "\n",
    "# 결측치 개수가 많지 않으므로 제거를 고려"
   ]
  },
  {
   "cell_type": "markdown",
   "id": "55fc1f04-6d2f-47a6-bf4e-b8f1fcff5cbf",
   "metadata": {},
   "source": [
    "### 결측치 제거"
   ]
  },
  {
   "cell_type": "code",
   "execution_count": 8,
   "id": "9381894c-d22a-49ec-b012-0d981f7617c9",
   "metadata": {},
   "outputs": [
    {
     "data": {
      "text/plain": [
       "(392, 9)"
      ]
     },
     "execution_count": 8,
     "metadata": {},
     "output_type": "execute_result"
    }
   ],
   "source": [
    "df = df.dropna()\n",
    "df.shape\n",
    "\n",
    "# 6개 (결측)데이터 제거된 것을 확인"
   ]
  },
  {
   "cell_type": "markdown",
   "id": "a0129a3c-e8fd-4fa3-a3cd-8906841afb4a",
   "metadata": {},
   "source": [
    "### 수치 데이터만 가져오기\n",
    "* 머신러닝이나 딥러닝은 모델 내부에서 수치계산을 하므로 숫자가 아닌 데이터는 학습과 예측을 할 수 없다"
   ]
  },
  {
   "cell_type": "code",
   "execution_count": 10,
   "id": "96583ce3-3f61-413c-8566-1eac5cc3a57a",
   "metadata": {},
   "outputs": [
    {
     "data": {
      "text/plain": [
       "(392, 7)"
      ]
     },
     "execution_count": 10,
     "metadata": {},
     "output_type": "execute_result"
    }
   ],
   "source": [
    "# select_dtypes를 통해 object 타입을 제거하고 가져옴\n",
    "df = df.select_dtypes(exclude = 'object')\n",
    "df.shape\n",
    "\n",
    "# 2개의 열 제거"
   ]
  },
  {
   "cell_type": "markdown",
   "id": "e78e4bbe-7a9d-4c2d-aa04-74f94f41c9fa",
   "metadata": {},
   "source": [
    "### 전체 데이터 기술 통계 확인"
   ]
  },
  {
   "cell_type": "code",
   "execution_count": 11,
   "id": "86163dc3-6e2f-4b3d-9bdf-82a8fa41405a",
   "metadata": {},
   "outputs": [
    {
     "data": {
      "text/html": [
       "<div>\n",
       "<style scoped>\n",
       "    .dataframe tbody tr th:only-of-type {\n",
       "        vertical-align: middle;\n",
       "    }\n",
       "\n",
       "    .dataframe tbody tr th {\n",
       "        vertical-align: top;\n",
       "    }\n",
       "\n",
       "    .dataframe thead th {\n",
       "        text-align: right;\n",
       "    }\n",
       "</style>\n",
       "<table border=\"1\" class=\"dataframe\">\n",
       "  <thead>\n",
       "    <tr style=\"text-align: right;\">\n",
       "      <th></th>\n",
       "      <th>mpg</th>\n",
       "      <th>cylinders</th>\n",
       "      <th>displacement</th>\n",
       "      <th>horsepower</th>\n",
       "      <th>weight</th>\n",
       "      <th>acceleration</th>\n",
       "      <th>model_year</th>\n",
       "    </tr>\n",
       "  </thead>\n",
       "  <tbody>\n",
       "    <tr>\n",
       "      <th>count</th>\n",
       "      <td>392.000000</td>\n",
       "      <td>392.000000</td>\n",
       "      <td>392.000000</td>\n",
       "      <td>392.000000</td>\n",
       "      <td>392.000000</td>\n",
       "      <td>392.000000</td>\n",
       "      <td>392.000000</td>\n",
       "    </tr>\n",
       "    <tr>\n",
       "      <th>mean</th>\n",
       "      <td>23.445918</td>\n",
       "      <td>5.471939</td>\n",
       "      <td>194.411990</td>\n",
       "      <td>104.469388</td>\n",
       "      <td>2977.584184</td>\n",
       "      <td>15.541327</td>\n",
       "      <td>75.979592</td>\n",
       "    </tr>\n",
       "    <tr>\n",
       "      <th>std</th>\n",
       "      <td>7.805007</td>\n",
       "      <td>1.705783</td>\n",
       "      <td>104.644004</td>\n",
       "      <td>38.491160</td>\n",
       "      <td>849.402560</td>\n",
       "      <td>2.758864</td>\n",
       "      <td>3.683737</td>\n",
       "    </tr>\n",
       "    <tr>\n",
       "      <th>min</th>\n",
       "      <td>9.000000</td>\n",
       "      <td>3.000000</td>\n",
       "      <td>68.000000</td>\n",
       "      <td>46.000000</td>\n",
       "      <td>1613.000000</td>\n",
       "      <td>8.000000</td>\n",
       "      <td>70.000000</td>\n",
       "    </tr>\n",
       "    <tr>\n",
       "      <th>25%</th>\n",
       "      <td>17.000000</td>\n",
       "      <td>4.000000</td>\n",
       "      <td>105.000000</td>\n",
       "      <td>75.000000</td>\n",
       "      <td>2225.250000</td>\n",
       "      <td>13.775000</td>\n",
       "      <td>73.000000</td>\n",
       "    </tr>\n",
       "    <tr>\n",
       "      <th>50%</th>\n",
       "      <td>22.750000</td>\n",
       "      <td>4.000000</td>\n",
       "      <td>151.000000</td>\n",
       "      <td>93.500000</td>\n",
       "      <td>2803.500000</td>\n",
       "      <td>15.500000</td>\n",
       "      <td>76.000000</td>\n",
       "    </tr>\n",
       "    <tr>\n",
       "      <th>75%</th>\n",
       "      <td>29.000000</td>\n",
       "      <td>8.000000</td>\n",
       "      <td>275.750000</td>\n",
       "      <td>126.000000</td>\n",
       "      <td>3614.750000</td>\n",
       "      <td>17.025000</td>\n",
       "      <td>79.000000</td>\n",
       "    </tr>\n",
       "    <tr>\n",
       "      <th>max</th>\n",
       "      <td>46.600000</td>\n",
       "      <td>8.000000</td>\n",
       "      <td>455.000000</td>\n",
       "      <td>230.000000</td>\n",
       "      <td>5140.000000</td>\n",
       "      <td>24.800000</td>\n",
       "      <td>82.000000</td>\n",
       "    </tr>\n",
       "  </tbody>\n",
       "</table>\n",
       "</div>"
      ],
      "text/plain": [
       "              mpg   cylinders  displacement  horsepower       weight  \\\n",
       "count  392.000000  392.000000    392.000000  392.000000   392.000000   \n",
       "mean    23.445918    5.471939    194.411990  104.469388  2977.584184   \n",
       "std      7.805007    1.705783    104.644004   38.491160   849.402560   \n",
       "min      9.000000    3.000000     68.000000   46.000000  1613.000000   \n",
       "25%     17.000000    4.000000    105.000000   75.000000  2225.250000   \n",
       "50%     22.750000    4.000000    151.000000   93.500000  2803.500000   \n",
       "75%     29.000000    8.000000    275.750000  126.000000  3614.750000   \n",
       "max     46.600000    8.000000    455.000000  230.000000  5140.000000   \n",
       "\n",
       "       acceleration  model_year  \n",
       "count    392.000000  392.000000  \n",
       "mean      15.541327   75.979592  \n",
       "std        2.758864    3.683737  \n",
       "min        8.000000   70.000000  \n",
       "25%       13.775000   73.000000  \n",
       "50%       15.500000   76.000000  \n",
       "75%       17.025000   79.000000  \n",
       "max       24.800000   82.000000  "
      ]
     },
     "execution_count": 11,
     "metadata": {},
     "output_type": "execute_result"
    }
   ],
   "source": [
    "df.describe()"
   ]
  },
  {
   "cell_type": "markdown",
   "id": "0a879222-9ca9-4e0e-a198-9a3c586c0411",
   "metadata": {},
   "source": [
    "### 데이터셋 나누기"
   ]
  },
  {
   "cell_type": "code",
   "execution_count": 12,
   "id": "e1d0940b-1a9b-4ef8-aff9-867cd46f7796",
   "metadata": {},
   "outputs": [
    {
     "data": {
      "text/plain": [
       "(314, 7)"
      ]
     },
     "execution_count": 12,
     "metadata": {},
     "output_type": "execute_result"
    }
   ],
   "source": [
    "# 전체 df에서 train, test를 분리\n",
    "train_dataset = df.sample(frac = 0.8, random_state=42)  \n",
    "\n",
    "# sample을 사용해서 분리 가능\n",
    "# random_state로 랜덤 분리값 고정\n",
    "\n",
    "train_dataset.shape"
   ]
  },
  {
   "cell_type": "code",
   "execution_count": 13,
   "id": "9229f741-fe34-483f-bb99-5c8b5cfe2fe6",
   "metadata": {},
   "outputs": [
    {
     "data": {
      "text/plain": [
       "(78, 7)"
      ]
     },
     "execution_count": 13,
     "metadata": {},
     "output_type": "execute_result"
    }
   ],
   "source": [
    "test_dataset = df.drop(train_dataset.index)  # index\n",
    "test_dataset.shape"
   ]
  },
  {
   "cell_type": "code",
   "execution_count": 14,
   "id": "30e08996-161d-49e3-a2fb-3e4fea843878",
   "metadata": {},
   "outputs": [
    {
     "name": "stdout",
     "output_type": "stream",
     "text": [
      "(314,) (78,)\n"
     ]
    }
   ],
   "source": [
    "# train_dataset, test_dataset에서 label(정답) 값을 꺼내 label을 따로 생성\n",
    "# 문제에서 정답을 분리하는 과정\n",
    "\n",
    "train_labels = train_dataset.pop('mpg')\n",
    "test_labels = test_dataset.pop('mpg')\n",
    "\n",
    "print(train_labels.shape, test_labels.shape)"
   ]
  },
  {
   "cell_type": "code",
   "execution_count": null,
   "id": "b3c5b801-574a-459e-ba59-483da18454a6",
   "metadata": {},
   "outputs": [],
   "source": [
    "train_dataset.head(2)\n",
    "\n",
    "# mpg 열 제거 확인"
   ]
  },
  {
   "cell_type": "code",
   "execution_count": null,
   "id": "d0e1202d-50f3-4850-a5b6-4519a896b14a",
   "metadata": {},
   "outputs": [],
   "source": [
    "test_labels.head(2)"
   ]
  },
  {
   "cell_type": "markdown",
   "id": "595cb972-5cad-4f6d-86b5-18b39c311b3b",
   "metadata": {},
   "source": [
    "---"
   ]
  },
  {
   "cell_type": "markdown",
   "id": "405d8d62-2645-4411-bd7c-bb98a20922e0",
   "metadata": {
    "tags": []
   },
   "source": [
    "## 딥러닝 모델 만들기"
   ]
  },
  {
   "cell_type": "code",
   "execution_count": null,
   "id": "965b488c-b2c2-4f7d-8003-f947ccf8330a",
   "metadata": {},
   "outputs": [],
   "source": [
    "# tensorflow 불러오기\n",
    "import tensorflow as tf\n",
    "tf.__version__"
   ]
  },
  {
   "cell_type": "markdown",
   "id": "b8b3f193-180d-4e8d-813b-1d287254afff",
   "metadata": {},
   "source": [
    "### 딥러닝 층 구성"
   ]
  },
  {
   "cell_type": "code",
   "execution_count": null,
   "id": "b652d8a3-7e2b-41aa-89f6-6c3f29267f2f",
   "metadata": {},
   "outputs": [],
   "source": [
    "model = tf.keras.Sequential()\n",
    "# input_shape에 변수의 개수 입력\n",
    "model.add(tf.keras.layers.Dense(64, input_shape=[len(train_dataset.keys())]))\n",
    "model.add(tf.keras.layers.Dense(64)) # 히든레이어 1 생성\n",
    "model.add(tf.keras.layers.Dense(64)) # 히든레이어 2 생성\n",
    "model.add(tf.keras.layers.Dense(1))          "
   ]
  },
  {
   "cell_type": "markdown",
   "id": "ece7ac98-de71-4149-a5f6-4317b6800eee",
   "metadata": {},
   "source": [
    "### 모델 컴파일\n"
   ]
  },
  {
   "cell_type": "code",
   "execution_count": null,
   "id": "c8cead7e-d62d-4be6-8595-74e8d36974e0",
   "metadata": {},
   "outputs": [],
   "source": [
    "# loss : 회귀모델 평가에 mse 사용\n",
    "# metrics : 모델의 정확도 판단, 회귀의 경우 mae, mse, rmse등을 사용\n",
    "model.compile(loss='mse', metrics=['mae', 'mse'])"
   ]
  },
  {
   "cell_type": "markdown",
   "id": "5c4b5a11-af79-42cc-8d29-8de0d55c740b",
   "metadata": {},
   "source": [
    "### 만들어진 모델 확인"
   ]
  },
  {
   "cell_type": "code",
   "execution_count": null,
   "id": "b52fd705-2f41-4a6d-b9a4-7db5f1a8fa60",
   "metadata": {},
   "outputs": [],
   "source": [
    "model.summary()\n",
    "\n",
    "# 2개의 히든레이어가 있는 model임을 확인 할 수 있다"
   ]
  },
  {
   "cell_type": "code",
   "execution_count": null,
   "id": "d44f4ec2-b68d-497e-acc7-6449e8cd234e",
   "metadata": {},
   "outputs": [],
   "source": []
  },
  {
   "cell_type": "markdown",
   "id": "2c15b78f-c594-4d0e-960f-8c6eb69c3154",
   "metadata": {},
   "source": [
    "---"
   ]
  },
  {
   "cell_type": "markdown",
   "id": "0f0f6de8-b556-4646-94bd-b88c0d2931af",
   "metadata": {},
   "source": [
    "### 딥러닝 모델로 학습"
   ]
  },
  {
   "cell_type": "code",
   "execution_count": null,
   "id": "08c4f4c1-cf36-4e59-9fa9-57d814d7d5a2",
   "metadata": {},
   "outputs": [],
   "source": [
    "model.fit(train_dataset, train_labels, epochs=10, verbose=1)"
   ]
  },
  {
   "cell_type": "markdown",
   "id": "8e845f14-d706-4f6d-8ff4-b7978f3f3472",
   "metadata": {},
   "source": [
    "### 딥러닝 모델로 평가"
   ]
  },
  {
   "cell_type": "code",
   "execution_count": null,
   "id": "7558c8af-4762-4448-98cd-498306dbf019",
   "metadata": {},
   "outputs": [],
   "source": [
    "model.evaluate(test_dataset, test_labels)"
   ]
  },
  {
   "cell_type": "markdown",
   "id": "07a5e096-60a7-47a8-bb8c-be6a917ae83c",
   "metadata": {},
   "source": [
    "### 딥러닝 모델의 예측"
   ]
  },
  {
   "cell_type": "code",
   "execution_count": null,
   "id": "4fd2e23c-5146-4a61-ac16-88398664688c",
   "metadata": {},
   "outputs": [],
   "source": [
    "predict_labels = model.predict(test_dataset).flatten()  # flatten : 다차원 배열을 1차원으로 평평하게 해줌\n",
    "predict_labels"
   ]
  },
  {
   "cell_type": "markdown",
   "id": "2d892911-80b4-4ffe-86ee-d887af4d7a90",
   "metadata": {},
   "source": [
    "### 딥러닝 모델의 예측결과 평가"
   ]
  },
  {
   "cell_type": "code",
   "execution_count": null,
   "id": "82768d2a-be20-43fd-9d89-066f14f3f1fa",
   "metadata": {},
   "outputs": [],
   "source": [
    "sns.scatterplot(x=test_labels, y=predict_labels)"
   ]
  },
  {
   "cell_type": "code",
   "execution_count": null,
   "id": "faa23651-e5e5-4706-854b-c044da664ea4",
   "metadata": {},
   "outputs": [],
   "source": [
    "# 학습(.fit)할 때 epochs를 높이는 방법\n",
    "# 딥러닝 층(Dense)에 activation = 'relu' 옵션 추가"
   ]
  }
 ],
 "metadata": {
  "kernelspec": {
   "display_name": "Python 3 (ipykernel)",
   "language": "python",
   "name": "python3"
  },
  "language_info": {
   "codemirror_mode": {
    "name": "ipython",
    "version": 3
   },
   "file_extension": ".py",
   "mimetype": "text/x-python",
   "name": "python",
   "nbconvert_exporter": "python",
   "pygments_lexer": "ipython3",
   "version": "3.8.12"
  }
 },
 "nbformat": 4,
 "nbformat_minor": 5
}
