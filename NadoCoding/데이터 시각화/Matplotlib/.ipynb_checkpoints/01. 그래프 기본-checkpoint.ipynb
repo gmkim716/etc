{
 "cells": [
  {
   "cell_type": "markdown",
   "id": "e88ba263-125e-4ab0-9d23-a3c65aba8f10",
   "metadata": {},
   "source": [
    "# Matplotlib\n",
    "다양한 형태의 그래프를 통해서 데이터 시각화를 할 수 있는 라이브러리"
   ]
  },
  {
   "cell_type": "code",
   "execution_count": null,
   "id": "d43e4dd0-fa7f-40bf-9e6d-8bbe8dbb9b98",
   "metadata": {},
   "outputs": [],
   "source": [
    "import matplotlib.pyplot as plt"
   ]
  },
  {
   "cell_type": "markdown",
   "id": "9355cb19-84dd-40ec-a826-21ab158d7595",
   "metadata": {},
   "source": [
    "# 1. 그래프 기본"
   ]
  },
  {
   "cell_type": "code",
   "execution_count": null,
   "id": "f5a3b271-8c67-43c6-9653-62f4aed74c24",
   "metadata": {},
   "outputs": [],
   "source": [
    "x = [1, 2, 3]\n",
    "y = [2, 4, 8]\n",
    "plt.plot(x, y)"
   ]
  },
  {
   "cell_type": "code",
   "execution_count": null,
   "id": "2d044a1a-f05d-44f4-884a-508bc59666ad",
   "metadata": {},
   "outputs": [],
   "source": [
    "plt.plot(x, y)\n",
    "plt.show()"
   ]
  },
  {
   "cell_type": "markdown",
   "id": "2d53c40d-1531-4348-8c92-8a5107e5fad1",
   "metadata": {},
   "source": [
    "## Title 설정"
   ]
  },
  {
   "cell_type": "code",
   "execution_count": null,
   "id": "4f87b2e1-25a7-433c-bb0b-d19322eb1928",
   "metadata": {},
   "outputs": [],
   "source": [
    "plt.plot(x, y)\n",
    "plt.title('꺾은선 그래프')"
   ]
  },
  {
   "cell_type": "markdown",
   "id": "be9196f6-b041-4c78-9f27-56b6cdeebcef",
   "metadata": {},
   "source": [
    "## 한글 폰트 설정"
   ]
  },
  {
   "cell_type": "code",
   "execution_count": 28,
   "id": "3ea85d8b-8894-457e-a9c5-81ac8585416d",
   "metadata": {},
   "outputs": [],
   "source": [
    "import matplotlib\n",
    "matplotlib.rcParams['font.family'] = 'Malgun Gothic' # Windows\n",
    "# matplotlib.rcParams['font.family'] = 'AppleGothic' # Mac\n",
    "matplotlib.rcParams['font.size'] = 15 # 글자 크기\n",
    "matplotlib.rcParams['axes.unicode_minus'] = False # 한글 폰트 사용 시, 마이너스 글자가 깨지는 현상을 해결"
   ]
  },
  {
   "cell_type": "code",
   "execution_count": null,
   "id": "9d36f880-6276-491d-8d85-a1ca09a64aee",
   "metadata": {},
   "outputs": [],
   "source": [
    "import matplotlib.font_manager as fm\n",
    "fm.fontManager.ttflist # 사용 가능한 폰트 확인\n",
    "[f.name for f in fm.fontManager.ttflist]"
   ]
  },
  {
   "cell_type": "code",
   "execution_count": null,
   "id": "b6ef7c61-3436-4354-9c2b-ee524da70290",
   "metadata": {},
   "outputs": [],
   "source": [
    "plt.plot(x, y)\n",
    "plt.title('꺾은선 그래프')"
   ]
  },
  {
   "cell_type": "code",
   "execution_count": 29,
   "id": "a81f1285-5be3-4ab7-940b-47795149b36a",
   "metadata": {},
   "outputs": [
    {
     "data": {
      "image/png": "[encoded data removed]",
      "text/plain": [
       "<Figure size 432x288 with 1 Axes>"
      ]
     },
     "metadata": {
      "needs_background": "light"
     },
     "output_type": "display_data"
    }
   ],
   "source": [
    "plt.plot([-1,0,1],[-5,-1,2])\n",
    "plt.show()"
   ]
  }
 ],
 "metadata": {
  "kernelspec": {
   "display_name": "Python 3",
   "language": "python",
   "name": "python3"
  },
  "language_info": {
   "codemirror_mode": {
    "name": "ipython",
    "version": 3
   },
   "file_extension": ".py",
   "mimetype": "text/x-python",
   "name": "python",
   "nbconvert_exporter": "python",
   "pygments_lexer": "ipython3",
   "version": "3.8.8"
  }
 },
 "nbformat": 4,
 "nbformat_minor": 5
}
